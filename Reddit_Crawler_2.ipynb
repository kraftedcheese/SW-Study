{
  "nbformat": 4,
  "nbformat_minor": 0,
  "metadata": {
    "colab": {
      "name": "Using Pushshift Module to extract Submissions.ipynb",
      "provenance": [],
      "toc_visible": true
    },
    "kernelspec": {
      "name": "python3",
      "display_name": "Python 3"
    }
  },
  "cells": [
    {
      "cell_type": "markdown",
      "metadata": {
        "id": "j-QQANye3ecE"
      },
      "source": [
        "# Using Pushshift Module to extract Submissions Data from Reddit via Python\n",
        "\n",
        "PRAW is pretty good at gettin reddit data but there are some limitations with it.\n",
        "Including the removal of the [subreddit.submissions endpoint](https://www.reddit.com/r/changelog/comments/7tus5f/update_to_search_api/.). \n",
        "\n",
        "So for extracting Reddit submissions and the primarily data such as upvotes and comments count, I put together this notebook using Pushshift.\n",
        "\n",
        "If you still prefer PRAW for extract submissions, I have written a code [template here](https://github.com/SeyiAgboola/Seyi_Projects/blob/master/submission_list.py).\n",
        "\n",
        "I will also [host the code on GitHub](https://github.com/SeyiAgboola/Reddit-Data-Mining/blob/master/Using_Pushshift_Module_to_extract_Submissions.ipynb).\n",
        "\n",
        "More info on the removal of the [subreddit.submissions endpoint](https://www.reddit.com/r/redditdev/comments/8bia9n/praw_psa_the_subredditsubmissions_method_no/)."
      ]
    },
    {
      "cell_type": "markdown",
      "metadata": {
        "id": "GyarnetivJPG"
      },
      "source": [
        "# Import modules"
      ]
    },
    {
      "cell_type": "code",
      "metadata": {
        "id": "VfmIce345UaB"
      },
      "source": [
        "import pandas as pd\n",
        "import requests #Pushshift accesses Reddit via an url so this is needed\n",
        "import json #JSON manipulation\n",
        "import csv #To Convert final table into a csv file to save to your machine\n",
        "import time\n",
        "import datetime"
      ],
      "execution_count": 27,
      "outputs": []
    },
    {
      "cell_type": "markdown",
      "metadata": {
        "id": "pj8JGor4vMwC"
      },
      "source": [
        "# Pushshift URL Examples"
      ]
    },
    {
      "cell_type": "code",
      "metadata": {
        "id": "yH8nB39CzZfU"
      },
      "source": [
        "#We can access the Pushshift API through building an URL with the relevant parameters without even needing Reddit credentials.\n",
        "#These are some examples. You can follow the links and they will generate a page with JSON data\n",
        "search_ps4_after_date = \"https://api.pushshift.io/reddit/search/submission/?q=screenshot&after=1514764800&before=1517443200&subreddit=PS4\"\n",
        "search_science = \"https://api.pushshift.io/reddit/search/submission/?q=science\""
      ],
      "execution_count": 28,
      "outputs": []
    },
    {
      "cell_type": "markdown",
      "metadata": {
        "id": "AFPXbeD-0kGc"
      },
      "source": [
        "# Parameters for your Pushshift URL\n",
        "These are probably the most important parameters to consider when building your Pushshift URL:\n",
        "\n",
        "* size — increase limit of returned entries to 1000\n",
        "* after — where to start the search\n",
        "* before — where to end the search\n",
        "* title — to search only within the submission’s title\n",
        "* subreddit — to narrow it down to a particular subreddit"
      ]
    },
    {
      "cell_type": "code",
      "metadata": {
        "id": "mDma-H_k0frf"
      },
      "source": [
        "#Adapted from this https://gist.github.com/dylankilkenny/3dbf6123527260165f8c5c3bc3ee331b\n",
        "#This function builds an Pushshift URL, accesses the webpage and stores JSON data in a nested list\n",
        "def getPushshiftData(query, after, before, sub):\n",
        "    #Build URL\n",
        "    #url = 'https://api.pushshift.io/reddit/search/submission/?title='+str(query)+'&size=1000&after='+str(after)+'&before='+str(before)+'&subreddit='+str(sub)\n",
        "    url = 'https://api.pushshift.io/reddit/search/submission/?'+'size=1000&after='+str(after)+'&before='+str(before)+'&subreddit='+str(sub)\n",
        "    #Print URL to show user\n",
        "    print(url)\n",
        "    #Request URL\n",
        "    r = requests.get(url)\n",
        "    #Load JSON data from webpage into data variable\n",
        "    try:\n",
        "        data = json.loads(r.text)\n",
        "    except:\n",
        "        return None\n",
        "    #return the data element which contains all the submissions data\n",
        "    return data['data']"
      ],
      "execution_count": 29,
      "outputs": []
    },
    {
      "cell_type": "markdown",
      "metadata": {
        "id": "H524E6kkvh1O"
      },
      "source": [
        "# Extract key information from Submissions\n",
        "\n",
        "We want key data for further analysis including: \n",
        "* Submission Title\n",
        "* URL \n",
        "* Flair\n",
        "* Author\n",
        "* Submission post ID\n",
        "* Score\n",
        "* Upload Time\n",
        "* No. of Comments \n",
        "* Permalink.\n"
      ]
    },
    {
      "cell_type": "code",
      "metadata": {
        "id": "N6qX7glQ1-nl"
      },
      "source": [
        "#This function will be used to extract the key data points from each JSON result\n",
        "def collectSubData(subm):\n",
        "    #subData was created at the start to hold all the data which is then added to our global subStats dictionary.\n",
        "    subData = list() #list to store data points\n",
        "    title = subm['title']\n",
        "    url = subm['url']\n",
        "    #flairs are not always present so we wrap in try/except\n",
        "    try:\n",
        "        flair = subm['link_flair_text']\n",
        "    except KeyError:\n",
        "        flair = \"NaN\"    \n",
        "    author = subm['author']\n",
        "    sub_id = subm['id']\n",
        "    score = subm['score']\n",
        "    try:\n",
        "        selftext = subm['selftext']\n",
        "    except KeyError:\n",
        "        selftext = \"NaN\"\n",
        "    created = datetime.datetime.fromtimestamp(subm['created_utc']) #1520561700.0\n",
        "    numComms = subm['num_comments']\n",
        "    permalink = subm['permalink']\n",
        "    #Put all data points into a tuple and append to subData\n",
        "    subData.append((sub_id,title,url,author,score,created,numComms,permalink,flair, selftext))\n",
        "    #Create a dictionary entry of current submission data and store all data related to it\n",
        "    subStats[sub_id] = subData"
      ],
      "execution_count": 30,
      "outputs": []
    },
    {
      "cell_type": "markdown",
      "metadata": {
        "id": "vCDRrn9nwRsj"
      },
      "source": [
        "# Update your Search Settings here"
      ]
    },
    {
      "source": [
        "suicidewatch_2020 - after: 1577836800, before: 1607266725, query = \"\", sub = \"SuicideWatch\"   \n",
        "suicidewatch_2019 - after: 1546300800, before: 1577836799, query = \"\", sub = \"SuicideWatch\"  \n",
        "suicidewatch_2019_2 - after: 1562233200, before: 1577836799  \n",
        "suicidewatch_2019_3 - after: 1562666358, before 1577836799"
      ],
      "cell_type": "markdown",
      "metadata": {}
    },
    {
      "cell_type": "code",
      "metadata": {
        "id": "V0fNU7eS2mwT"
      },
      "source": [
        "#Create your timestamps and queries for your search URL\n",
        "#https://www.unixtimestamp.com/index.php > Use this to create your timestamps\n",
        "after = \"1576493523\" #Submissions after this timestamp (1577836800 = 01 Jan 20)\n",
        "before = \"1577836799\" #Submissions before this timestamp (1607040000 = 04 Dec 20)\n",
        "query = \"\" #Keyword(s) to look for in submissions\n",
        "sub = \"SuicideWatch\" #Which Subreddit to search in\n",
        "\n",
        "#subCount tracks the no. of total submissions we collect\n",
        "subCount = 0\n",
        "#subStats is the dictionary where we will store our data.\n",
        "subStats = {}"
      ],
      "execution_count": 38,
      "outputs": []
    },
    {
      "cell_type": "code",
      "metadata": {
        "id": "6wP_j8pp2-M8",
        "tags": []
      },
      "source": [
        "# We need to run this function outside the loop first to get the updated after variable\n",
        "data = getPushshiftData(query, after, before, sub)\n",
        "# Will run until all posts have been gathered i.e. When the length of data variable = 0\n",
        "# from the 'after' date up until before date\n",
        "if data is not None:\n",
        "    while len(data) > 0: #The length of data is the number submissions (data[0], data[1] etc), once it hits zero (after and before vars are the same) end\n",
        "        for submission in data:\n",
        "            collectSubData(submission)\n",
        "            subCount+=1\n",
        "        # Calls getPushshiftData() with the created date of the last submission\n",
        "        print(len(data))\n",
        "        print(str(datetime.datetime.fromtimestamp(data[-1]['created_utc'])))\n",
        "        #update after variable to last created date of submission\n",
        "        after = data[-1]['created_utc']\n",
        "        #data has changed due to the new after variable provided by above code\n",
        "        data_temp = getPushshiftData(query, after, before, sub)\n",
        "        i = 0\n",
        "        while data_temp is None:\n",
        "            print(\"error in getting data, retrying\")\n",
        "            after = data[-1]['created_utc'] + i\n",
        "            data_temp = getPushshiftData(query, after, before, sub)\n",
        "            i += 1\n",
        "        data = data_temp\n",
        "    \n",
        "    print(len(data))"
      ],
      "execution_count": 39,
      "outputs": [
        {
          "output_type": "stream",
          "name": "stdout",
          "text": [
            "https://api.pushshift.io/reddit/search/submission/?size=1000&after=1576493523&before=1577836799&subreddit=SuicideWatch\n",
            "100\n",
            "2019-12-17 04:16:42\n",
            "https://api.pushshift.io/reddit/search/submission/?size=1000&after=1576527402&before=1577836799&subreddit=SuicideWatch\n",
            "100\n",
            "2019-12-17 10:20:06\n",
            "https://api.pushshift.io/reddit/search/submission/?size=1000&after=1576549206&before=1577836799&subreddit=SuicideWatch\n",
            "100\n",
            "2019-12-17 15:48:08\n",
            "https://api.pushshift.io/reddit/search/submission/?size=1000&after=1576568888&before=1577836799&subreddit=SuicideWatch\n",
            "error in getting data, retrying\n",
            "https://api.pushshift.io/reddit/search/submission/?size=1000&after=1576568888&before=1577836799&subreddit=SuicideWatch\n",
            "100\n",
            "2019-12-18 02:09:50\n",
            "https://api.pushshift.io/reddit/search/submission/?size=1000&after=1576606190&before=1577836799&subreddit=SuicideWatch\n",
            "100\n",
            "2019-12-18 07:35:29\n",
            "https://api.pushshift.io/reddit/search/submission/?size=1000&after=1576625729&before=1577836799&subreddit=SuicideWatch\n",
            "100\n",
            "2019-12-18 13:21:26\n",
            "https://api.pushshift.io/reddit/search/submission/?size=1000&after=1576646486&before=1577836799&subreddit=SuicideWatch\n",
            "100\n",
            "2019-12-18 22:02:20\n",
            "https://api.pushshift.io/reddit/search/submission/?size=1000&after=1576677740&before=1577836799&subreddit=SuicideWatch\n",
            "100\n",
            "2019-12-19 05:00:22\n",
            "https://api.pushshift.io/reddit/search/submission/?size=1000&after=1576702822&before=1577836799&subreddit=SuicideWatch\n",
            "100\n",
            "2019-12-19 11:08:45\n",
            "https://api.pushshift.io/reddit/search/submission/?size=1000&after=1576724925&before=1577836799&subreddit=SuicideWatch\n",
            "100\n",
            "2019-12-19 19:02:32\n",
            "https://api.pushshift.io/reddit/search/submission/?size=1000&after=1576753352&before=1577836799&subreddit=SuicideWatch\n",
            "100\n",
            "2019-12-20 04:13:24\n",
            "https://api.pushshift.io/reddit/search/submission/?size=1000&after=1576786404&before=1577836799&subreddit=SuicideWatch\n",
            "100\n",
            "2019-12-20 10:25:00\n",
            "https://api.pushshift.io/reddit/search/submission/?size=1000&after=1576808700&before=1577836799&subreddit=SuicideWatch\n",
            "100\n",
            "2019-12-20 16:39:23\n",
            "https://api.pushshift.io/reddit/search/submission/?size=1000&after=1576831163&before=1577836799&subreddit=SuicideWatch\n",
            "100\n",
            "2019-12-21 02:23:09\n",
            "https://api.pushshift.io/reddit/search/submission/?size=1000&after=1576866189&before=1577836799&subreddit=SuicideWatch\n",
            "100\n",
            "2019-12-21 08:51:17\n",
            "https://api.pushshift.io/reddit/search/submission/?size=1000&after=1576889477&before=1577836799&subreddit=SuicideWatch\n",
            "100\n",
            "2019-12-21 16:24:05\n",
            "https://api.pushshift.io/reddit/search/submission/?size=1000&after=1576916645&before=1577836799&subreddit=SuicideWatch\n",
            "error in getting data, retrying\n",
            "https://api.pushshift.io/reddit/search/submission/?size=1000&after=1576916645&before=1577836799&subreddit=SuicideWatch\n",
            "100\n",
            "2019-12-22 04:42:08\n",
            "https://api.pushshift.io/reddit/search/submission/?size=1000&after=1576960928&before=1577836799&subreddit=SuicideWatch\n",
            "100\n",
            "2019-12-22 10:31:23\n",
            "https://api.pushshift.io/reddit/search/submission/?size=1000&after=1576981883&before=1577836799&subreddit=SuicideWatch\n",
            "100\n",
            "2019-12-22 17:48:23\n",
            "https://api.pushshift.io/reddit/search/submission/?size=1000&after=1577008103&before=1577836799&subreddit=SuicideWatch\n",
            "100\n",
            "2019-12-23 04:18:50\n",
            "https://api.pushshift.io/reddit/search/submission/?size=1000&after=1577045930&before=1577836799&subreddit=SuicideWatch\n",
            "100\n",
            "2019-12-23 09:24:18\n",
            "https://api.pushshift.io/reddit/search/submission/?size=1000&after=1577064258&before=1577836799&subreddit=SuicideWatch\n",
            "100\n",
            "2019-12-23 14:10:17\n",
            "https://api.pushshift.io/reddit/search/submission/?size=1000&after=1577081417&before=1577836799&subreddit=SuicideWatch\n",
            "100\n",
            "2019-12-23 22:06:28\n",
            "https://api.pushshift.io/reddit/search/submission/?size=1000&after=1577109988&before=1577836799&subreddit=SuicideWatch\n",
            "100\n",
            "2019-12-24 05:28:17\n",
            "https://api.pushshift.io/reddit/search/submission/?size=1000&after=1577136497&before=1577836799&subreddit=SuicideWatch\n",
            "100\n",
            "2019-12-24 10:57:24\n",
            "https://api.pushshift.io/reddit/search/submission/?size=1000&after=1577156244&before=1577836799&subreddit=SuicideWatch\n",
            "100\n",
            "2019-12-24 16:50:30\n",
            "https://api.pushshift.io/reddit/search/submission/?size=1000&after=1577177430&before=1577836799&subreddit=SuicideWatch\n",
            "error in getting data, retrying\n",
            "https://api.pushshift.io/reddit/search/submission/?size=1000&after=1577177430&before=1577836799&subreddit=SuicideWatch\n",
            "100\n",
            "2019-12-25 02:55:56\n",
            "https://api.pushshift.io/reddit/search/submission/?size=1000&after=1577213756&before=1577836799&subreddit=SuicideWatch\n",
            "100\n",
            "2019-12-25 09:18:01\n",
            "https://api.pushshift.io/reddit/search/submission/?size=1000&after=1577236681&before=1577836799&subreddit=SuicideWatch\n",
            "100\n",
            "2019-12-25 13:46:11\n",
            "https://api.pushshift.io/reddit/search/submission/?size=1000&after=1577252771&before=1577836799&subreddit=SuicideWatch\n",
            "100\n",
            "2019-12-25 21:18:52\n",
            "https://api.pushshift.io/reddit/search/submission/?size=1000&after=1577279932&before=1577836799&subreddit=SuicideWatch\n",
            "100\n",
            "2019-12-26 04:38:33\n",
            "https://api.pushshift.io/reddit/search/submission/?size=1000&after=1577306313&before=1577836799&subreddit=SuicideWatch\n",
            "100\n",
            "2019-12-26 10:42:05\n",
            "https://api.pushshift.io/reddit/search/submission/?size=1000&after=1577328125&before=1577836799&subreddit=SuicideWatch\n",
            "100\n",
            "2019-12-26 17:35:02\n",
            "https://api.pushshift.io/reddit/search/submission/?size=1000&after=1577352902&before=1577836799&subreddit=SuicideWatch\n",
            "error in getting data, retrying\n",
            "https://api.pushshift.io/reddit/search/submission/?size=1000&after=1577352902&before=1577836799&subreddit=SuicideWatch\n",
            "100\n",
            "2019-12-27 03:04:13\n",
            "https://api.pushshift.io/reddit/search/submission/?size=1000&after=1577387053&before=1577836799&subreddit=SuicideWatch\n",
            "100\n",
            "2019-12-27 08:50:56\n",
            "https://api.pushshift.io/reddit/search/submission/?size=1000&after=1577407856&before=1577836799&subreddit=SuicideWatch\n",
            "100\n",
            "2019-12-27 14:55:57\n",
            "https://api.pushshift.io/reddit/search/submission/?size=1000&after=1577429757&before=1577836799&subreddit=SuicideWatch\n",
            "100\n",
            "2019-12-28 00:44:29\n",
            "https://api.pushshift.io/reddit/search/submission/?size=1000&after=1577465069&before=1577836799&subreddit=SuicideWatch\n",
            "100\n",
            "2019-12-28 08:16:30\n",
            "https://api.pushshift.io/reddit/search/submission/?size=1000&after=1577492190&before=1577836799&subreddit=SuicideWatch\n",
            "100\n",
            "2019-12-28 13:50:18\n",
            "https://api.pushshift.io/reddit/search/submission/?size=1000&after=1577512218&before=1577836799&subreddit=SuicideWatch\n",
            "100\n",
            "2019-12-29 00:08:50\n",
            "https://api.pushshift.io/reddit/search/submission/?size=1000&after=1577549330&before=1577836799&subreddit=SuicideWatch\n",
            "100\n",
            "2019-12-29 07:13:06\n",
            "https://api.pushshift.io/reddit/search/submission/?size=1000&after=1577574786&before=1577836799&subreddit=SuicideWatch\n",
            "100\n",
            "2019-12-29 12:11:15\n",
            "https://api.pushshift.io/reddit/search/submission/?size=1000&after=1577592675&before=1577836799&subreddit=SuicideWatch\n",
            "100\n",
            "2019-12-29 18:47:41\n",
            "https://api.pushshift.io/reddit/search/submission/?size=1000&after=1577616461&before=1577836799&subreddit=SuicideWatch\n",
            "100\n",
            "2019-12-30 03:33:15\n",
            "https://api.pushshift.io/reddit/search/submission/?size=1000&after=1577647995&before=1577836799&subreddit=SuicideWatch\n",
            "100\n",
            "2019-12-30 08:45:27\n",
            "https://api.pushshift.io/reddit/search/submission/?size=1000&after=1577666727&before=1577836799&subreddit=SuicideWatch\n",
            "100\n",
            "2019-12-30 13:47:36\n",
            "https://api.pushshift.io/reddit/search/submission/?size=1000&after=1577684856&before=1577836799&subreddit=SuicideWatch\n",
            "100\n",
            "2019-12-30 21:23:52\n",
            "https://api.pushshift.io/reddit/search/submission/?size=1000&after=1577712232&before=1577836799&subreddit=SuicideWatch\n",
            "100\n",
            "2019-12-31 04:51:34\n",
            "https://api.pushshift.io/reddit/search/submission/?size=1000&after=1577739094&before=1577836799&subreddit=SuicideWatch\n",
            "100\n",
            "2019-12-31 10:21:25\n",
            "https://api.pushshift.io/reddit/search/submission/?size=1000&after=1577758885&before=1577836799&subreddit=SuicideWatch\n",
            "error in getting data, retrying\n",
            "https://api.pushshift.io/reddit/search/submission/?size=1000&after=1577758885&before=1577836799&subreddit=SuicideWatch\n",
            "100\n",
            "2019-12-31 15:09:16\n",
            "https://api.pushshift.io/reddit/search/submission/?size=1000&after=1577776156&before=1577836799&subreddit=SuicideWatch\n",
            "100\n",
            "2019-12-31 22:44:58\n",
            "https://api.pushshift.io/reddit/search/submission/?size=1000&after=1577803498&before=1577836799&subreddit=SuicideWatch\n",
            "100\n",
            "2020-01-01 03:53:44\n",
            "https://api.pushshift.io/reddit/search/submission/?size=1000&after=1577822024&before=1577836799&subreddit=SuicideWatch\n",
            "79\n",
            "2020-01-01 07:59:48\n",
            "https://api.pushshift.io/reddit/search/submission/?size=1000&after=1577836788&before=1577836799&subreddit=SuicideWatch\n",
            "0\n"
          ]
        }
      ]
    },
    {
      "cell_type": "markdown",
      "metadata": {
        "id": "OaeTGu7mwyoU"
      },
      "source": [
        "# Check your Submission Extraction was successful"
      ]
    },
    {
      "cell_type": "code",
      "metadata": {
        "id": "uVLuSJ8e8p7i"
      },
      "source": [
        "print(str(len(subStats)) + \" submissions have added to list\")\n",
        "print(\"1st entry is:\")\n",
        "print(list(subStats.values())[0][0][1] + \" created: \" + str(list(subStats.values())[0][0][5]))\n",
        "print(\"Last entry is:\")\n",
        "print(list(subStats.values())[-1][0][1] + \" created: \" + str(list(subStats.values())[-1][0][5]))"
      ],
      "execution_count": 41,
      "outputs": [
        {
          "output_type": "stream",
          "name": "stdout",
          "text": [
            "5279 submissions have added to list\n1st entry is:\nBPD has ruined my life created: 2019-12-16 18:56:43\nLast entry is:\nIm not completely sure yet created: 2020-01-01 07:59:48\n"
          ]
        }
      ]
    },
    {
      "cell_type": "markdown",
      "metadata": {
        "id": "BAm_zZZfw521"
      },
      "source": [
        "# Save data to CSV file"
      ]
    },
    {
      "cell_type": "code",
      "metadata": {
        "id": "MBikywNJ8ufl"
      },
      "source": [
        "def updateSubs_file():\n",
        "    upload_count = 0\n",
        "    #location = \"\\\\Reddit Data\\\\\" >> If you're running this outside of a notebook you'll need this to direct to a specific location\n",
        "    print(\"input filename of submission file, please add .csv\")\n",
        "    filename = input() #This asks the user what to name the file\n",
        "    file = filename\n",
        "    with open(file, 'w', newline='', encoding='utf-8') as file: \n",
        "        a = csv.writer(file, delimiter=',')\n",
        "        headers = [\"Post ID\",\"Title\",\"Url\",\"Author\",\"Score\",\"Publish Date\",\"Total No. of Comments\",\"Permalink\",\"Flair\", \"SelfText\"]\n",
        "        a.writerow(headers)\n",
        "        for sub in subStats:\n",
        "            a.writerow(subStats[sub][0])\n",
        "            upload_count+=1\n",
        "            \n",
        "        print(str(upload_count) + \" submissions have been uploaded\")\n",
        "updateSubs_file()"
      ],
      "execution_count": 8,
      "outputs": [
        {
          "output_type": "stream",
          "name": "stdout",
          "text": [
            "input filename of submission file, please add .csv\n",
            "48500 submissions have been uploaded\n"
          ]
        }
      ]
    },
    {
      "cell_type": "code",
      "execution_count": 42,
      "metadata": {},
      "outputs": [
        {
          "output_type": "stream",
          "name": "stdout",
          "text": [
            "5279 submissions have been uploaded\n"
          ]
        }
      ],
      "source": [
        "def appendSubs_file():\n",
        "    upload_count = 0\n",
        "    #location = \"\\\\Reddit Data\\\\\" >> If you're running this outside of a notebook you'll need this to direct to a specific location\n",
        "    #print(\"input filename of submission file, please add .csv\")\n",
        "    #filename = input() #This asks the user what to name the file\n",
        "    file = \"sw_2019_partial.csv\"\n",
        "    with open(file, 'a', newline='', encoding='utf-8') as file: \n",
        "        a = csv.writer(file, delimiter=',')\n",
        "        for sub in subStats:\n",
        "            a.writerow(subStats[sub][0])\n",
        "            upload_count+=1\n",
        "            \n",
        "        print(str(upload_count) + \" submissions have been uploaded\")\n",
        "appendSubs_file()"
      ]
    },
    {
      "cell_type": "code",
      "execution_count": null,
      "metadata": {},
      "outputs": [],
      "source": []
    }
  ]
}