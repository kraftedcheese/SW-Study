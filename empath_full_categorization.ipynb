{
 "metadata": {
  "language_info": {
   "codemirror_mode": {
    "name": "ipython",
    "version": 3
   },
   "file_extension": ".py",
   "mimetype": "text/x-python",
   "name": "python",
   "nbconvert_exporter": "python",
   "pygments_lexer": "ipython3",
   "version": "3.7.7-final"
  },
  "orig_nbformat": 2,
  "kernelspec": {
   "name": "python3",
   "display_name": "Python 3",
   "language": "python"
  }
 },
 "nbformat": 4,
 "nbformat_minor": 2,
 "cells": [
  {
   "source": [
    "# Empath categorization for all categories using all our available data"
   ],
   "cell_type": "markdown",
   "metadata": {}
  },
  {
   "cell_type": "code",
   "execution_count": 22,
   "metadata": {},
   "outputs": [],
   "source": [
    "import pandas\n",
    "from empath import Empath\n",
    "lexicon = Empath()"
   ]
  },
  {
   "cell_type": "code",
   "execution_count": 25,
   "metadata": {},
   "outputs": [],
   "source": [
    "#initial creation of df, try to normalize by ourselves\n",
    "filename = \"new_data/sw_2010.txt\"\n",
    "f = open(filename, \"r\", encoding=\"utf8\")\n",
    "test = f.read()\n",
    "name = \"sw_2010\"\n",
    "test_dict = lexicon.analyze(test, normalize=True)\n",
    "df = pandas.DataFrame(test_dict, index=[name])\n",
    "f.close()"
   ]
  },
  {
   "cell_type": "code",
   "execution_count": 26,
   "metadata": {},
   "outputs": [
    {
     "output_type": "execute_result",
     "data": {
      "text/plain": [
       "             help    office     dance     money   wedding  domestic_work  \\\n",
       "sw_2010  0.003094  0.001014  0.000433  0.002405  0.003223       0.003348   \n",
       "\n",
       "           sleep  medical_emergency     cold      hate  ...    giving  \\\n",
       "sw_2010  0.00212           0.002112  0.00462  0.005621  ...  0.004411   \n",
       "\n",
       "         contentment  writing     rural  positive_emotion   musical  \\\n",
       "sw_2010     0.005484  0.00165  0.001088          0.009259  0.000666   \n",
       "\n",
       "         First_person_plural_pronoun  First_person_singular_pronoun  \\\n",
       "sw_2010                     0.002444                       0.082023   \n",
       "\n",
       "         thwarted_belonging  perceived_burdensomeness  \n",
       "sw_2010            0.001607                  0.002216  \n",
       "\n",
       "[1 rows x 198 columns]"
      ],
      "text/html": "<div>\n<style scoped>\n    .dataframe tbody tr th:only-of-type {\n        vertical-align: middle;\n    }\n\n    .dataframe tbody tr th {\n        vertical-align: top;\n    }\n\n    .dataframe thead th {\n        text-align: right;\n    }\n</style>\n<table border=\"1\" class=\"dataframe\">\n  <thead>\n    <tr style=\"text-align: right;\">\n      <th></th>\n      <th>help</th>\n      <th>office</th>\n      <th>dance</th>\n      <th>money</th>\n      <th>wedding</th>\n      <th>domestic_work</th>\n      <th>sleep</th>\n      <th>medical_emergency</th>\n      <th>cold</th>\n      <th>hate</th>\n      <th>...</th>\n      <th>giving</th>\n      <th>contentment</th>\n      <th>writing</th>\n      <th>rural</th>\n      <th>positive_emotion</th>\n      <th>musical</th>\n      <th>First_person_plural_pronoun</th>\n      <th>First_person_singular_pronoun</th>\n      <th>thwarted_belonging</th>\n      <th>perceived_burdensomeness</th>\n    </tr>\n  </thead>\n  <tbody>\n    <tr>\n      <th>sw_2010</th>\n      <td>0.003094</td>\n      <td>0.001014</td>\n      <td>0.000433</td>\n      <td>0.002405</td>\n      <td>0.003223</td>\n      <td>0.003348</td>\n      <td>0.00212</td>\n      <td>0.002112</td>\n      <td>0.00462</td>\n      <td>0.005621</td>\n      <td>...</td>\n      <td>0.004411</td>\n      <td>0.005484</td>\n      <td>0.00165</td>\n      <td>0.001088</td>\n      <td>0.009259</td>\n      <td>0.000666</td>\n      <td>0.002444</td>\n      <td>0.082023</td>\n      <td>0.001607</td>\n      <td>0.002216</td>\n    </tr>\n  </tbody>\n</table>\n<p>1 rows × 198 columns</p>\n</div>"
     },
     "metadata": {},
     "execution_count": 26
    }
   ],
   "source": [
    "df"
   ]
  },
  {
   "cell_type": "code",
   "execution_count": 27,
   "metadata": {},
   "outputs": [],
   "source": [
    "#functionalize\n",
    "def analyze_and_add(path, name, data):\n",
    "    filename = path + name + \".txt\"\n",
    "    f = open(filename, \"r\", encoding=\"utf8\")\n",
    "    test = f.read()\n",
    "    test_dict = lexicon.analyze(test, normalize=True)\n",
    "    df2 = pandas.DataFrame(test_dict, index=[name])\n",
    "    data_new = pandas.concat([data, df2], axis=0)\n",
    "    f.close()\n",
    "    return data_new"
   ]
  },
  {
   "cell_type": "code",
   "execution_count": 28,
   "metadata": {},
   "outputs": [],
   "source": [
    "for i in range(2011, 2021):\n",
    "    name = \"sw_\" + str(i)\n",
    "    df = analyze_and_add(\"new_data/\", name, df)"
   ]
  },
  {
   "cell_type": "code",
   "execution_count": 29,
   "metadata": {},
   "outputs": [
    {
     "output_type": "execute_result",
     "data": {
      "text/plain": [
       "             help    office     dance     money   wedding  domestic_work  \\\n",
       "sw_2010  0.003094  0.001014  0.000433  0.002405  0.003223       0.003348   \n",
       "sw_2011  0.003101  0.001036  0.000429  0.002326  0.003421       0.003441   \n",
       "sw_2012  0.003147  0.000962  0.000376  0.002262  0.003530       0.003515   \n",
       "sw_2013  0.003114  0.000960  0.000347  0.002241  0.003617       0.003592   \n",
       "sw_2014  0.003074  0.001038  0.000379  0.002277  0.003642       0.003615   \n",
       "sw_2015  0.002992  0.001027  0.000366  0.002333  0.003658       0.003721   \n",
       "sw_2016  0.003033  0.001027  0.000360  0.002144  0.003663       0.003680   \n",
       "sw_2017  0.003049  0.000952  0.000361  0.002210  0.003641       0.003784   \n",
       "sw_2018  0.002951  0.000960  0.000369  0.002215  0.003657       0.003718   \n",
       "sw_2019  0.002965  0.000925  0.000363  0.002130  0.003656       0.003668   \n",
       "sw_2020  0.002931  0.000899  0.000350  0.001949  0.003532       0.003623   \n",
       "\n",
       "            sleep  medical_emergency      cold      hate  ...    giving  \\\n",
       "sw_2010  0.002120           0.002112  0.004620  0.005621  ...  0.004411   \n",
       "sw_2011  0.002229           0.002323  0.004581  0.005876  ...  0.004093   \n",
       "sw_2012  0.002328           0.002335  0.004499  0.006155  ...  0.004065   \n",
       "sw_2013  0.002353           0.002348  0.004554  0.006410  ...  0.003897   \n",
       "sw_2014  0.002357           0.002516  0.004591  0.006369  ...  0.004032   \n",
       "sw_2015  0.002389           0.002529  0.004603  0.006440  ...  0.004055   \n",
       "sw_2016  0.002465           0.002889  0.004630  0.006768  ...  0.003971   \n",
       "sw_2017  0.002522           0.002950  0.004683  0.007009  ...  0.003881   \n",
       "sw_2018  0.002506           0.003019  0.004788  0.007015  ...  0.003864   \n",
       "sw_2019  0.002632           0.003175  0.004949  0.007242  ...  0.003869   \n",
       "sw_2020  0.002672           0.003292  0.005151  0.007842  ...  0.003748   \n",
       "\n",
       "         contentment   writing     rural  positive_emotion   musical  \\\n",
       "sw_2010     0.005484  0.001650  0.001088          0.009259  0.000666   \n",
       "sw_2011     0.005378  0.001448  0.001122          0.009613  0.000695   \n",
       "sw_2012     0.005189  0.001432  0.001162          0.009748  0.000673   \n",
       "sw_2013     0.005254  0.001454  0.001197          0.010091  0.000674   \n",
       "sw_2014     0.005307  0.001474  0.001244          0.009961  0.000710   \n",
       "sw_2015     0.005273  0.001435  0.001260          0.010086  0.000735   \n",
       "sw_2016     0.005393  0.001441  0.001285          0.010379  0.000729   \n",
       "sw_2017     0.005438  0.001384  0.001326          0.010593  0.000725   \n",
       "sw_2018     0.005529  0.001421  0.001327          0.010930  0.000731   \n",
       "sw_2019     0.005727  0.001402  0.001354          0.011184  0.000676   \n",
       "sw_2020     0.005962  0.001397  0.001409          0.011490  0.000681   \n",
       "\n",
       "         First_person_plural_pronoun  First_person_singular_pronoun  \\\n",
       "sw_2010                     0.002444                       0.082023   \n",
       "sw_2011                     0.002498                       0.083178   \n",
       "sw_2012                     0.002480                       0.085264   \n",
       "sw_2013                     0.002526                       0.088091   \n",
       "sw_2014                     0.002408                       0.087517   \n",
       "sw_2015                     0.002476                       0.087552   \n",
       "sw_2016                     0.002369                       0.087355   \n",
       "sw_2017                     0.002315                       0.087527   \n",
       "sw_2018                     0.002326                       0.086123   \n",
       "sw_2019                     0.002288                       0.086241   \n",
       "sw_2020                     0.002224                       0.085880   \n",
       "\n",
       "         thwarted_belonging  perceived_burdensomeness  \n",
       "sw_2010            0.001607                  0.002216  \n",
       "sw_2011            0.001684                  0.002222  \n",
       "sw_2012            0.001626                  0.002238  \n",
       "sw_2013            0.001643                  0.002265  \n",
       "sw_2014            0.001714                  0.002333  \n",
       "sw_2015            0.001694                  0.002343  \n",
       "sw_2016            0.001829                  0.002477  \n",
       "sw_2017            0.001792                  0.002531  \n",
       "sw_2018            0.001816                  0.002573  \n",
       "sw_2019            0.001769                  0.002648  \n",
       "sw_2020            0.001778                  0.002966  \n",
       "\n",
       "[11 rows x 198 columns]"
      ],
      "text/html": "<div>\n<style scoped>\n    .dataframe tbody tr th:only-of-type {\n        vertical-align: middle;\n    }\n\n    .dataframe tbody tr th {\n        vertical-align: top;\n    }\n\n    .dataframe thead th {\n        text-align: right;\n    }\n</style>\n<table border=\"1\" class=\"dataframe\">\n  <thead>\n    <tr style=\"text-align: right;\">\n      <th></th>\n      <th>help</th>\n      <th>office</th>\n      <th>dance</th>\n      <th>money</th>\n      <th>wedding</th>\n      <th>domestic_work</th>\n      <th>sleep</th>\n      <th>medical_emergency</th>\n      <th>cold</th>\n      <th>hate</th>\n      <th>...</th>\n      <th>giving</th>\n      <th>contentment</th>\n      <th>writing</th>\n      <th>rural</th>\n      <th>positive_emotion</th>\n      <th>musical</th>\n      <th>First_person_plural_pronoun</th>\n      <th>First_person_singular_pronoun</th>\n      <th>thwarted_belonging</th>\n      <th>perceived_burdensomeness</th>\n    </tr>\n  </thead>\n  <tbody>\n    <tr>\n      <th>sw_2010</th>\n      <td>0.003094</td>\n      <td>0.001014</td>\n      <td>0.000433</td>\n      <td>0.002405</td>\n      <td>0.003223</td>\n      <td>0.003348</td>\n      <td>0.002120</td>\n      <td>0.002112</td>\n      <td>0.004620</td>\n      <td>0.005621</td>\n      <td>...</td>\n      <td>0.004411</td>\n      <td>0.005484</td>\n      <td>0.001650</td>\n      <td>0.001088</td>\n      <td>0.009259</td>\n      <td>0.000666</td>\n      <td>0.002444</td>\n      <td>0.082023</td>\n      <td>0.001607</td>\n      <td>0.002216</td>\n    </tr>\n    <tr>\n      <th>sw_2011</th>\n      <td>0.003101</td>\n      <td>0.001036</td>\n      <td>0.000429</td>\n      <td>0.002326</td>\n      <td>0.003421</td>\n      <td>0.003441</td>\n      <td>0.002229</td>\n      <td>0.002323</td>\n      <td>0.004581</td>\n      <td>0.005876</td>\n      <td>...</td>\n      <td>0.004093</td>\n      <td>0.005378</td>\n      <td>0.001448</td>\n      <td>0.001122</td>\n      <td>0.009613</td>\n      <td>0.000695</td>\n      <td>0.002498</td>\n      <td>0.083178</td>\n      <td>0.001684</td>\n      <td>0.002222</td>\n    </tr>\n    <tr>\n      <th>sw_2012</th>\n      <td>0.003147</td>\n      <td>0.000962</td>\n      <td>0.000376</td>\n      <td>0.002262</td>\n      <td>0.003530</td>\n      <td>0.003515</td>\n      <td>0.002328</td>\n      <td>0.002335</td>\n      <td>0.004499</td>\n      <td>0.006155</td>\n      <td>...</td>\n      <td>0.004065</td>\n      <td>0.005189</td>\n      <td>0.001432</td>\n      <td>0.001162</td>\n      <td>0.009748</td>\n      <td>0.000673</td>\n      <td>0.002480</td>\n      <td>0.085264</td>\n      <td>0.001626</td>\n      <td>0.002238</td>\n    </tr>\n    <tr>\n      <th>sw_2013</th>\n      <td>0.003114</td>\n      <td>0.000960</td>\n      <td>0.000347</td>\n      <td>0.002241</td>\n      <td>0.003617</td>\n      <td>0.003592</td>\n      <td>0.002353</td>\n      <td>0.002348</td>\n      <td>0.004554</td>\n      <td>0.006410</td>\n      <td>...</td>\n      <td>0.003897</td>\n      <td>0.005254</td>\n      <td>0.001454</td>\n      <td>0.001197</td>\n      <td>0.010091</td>\n      <td>0.000674</td>\n      <td>0.002526</td>\n      <td>0.088091</td>\n      <td>0.001643</td>\n      <td>0.002265</td>\n    </tr>\n    <tr>\n      <th>sw_2014</th>\n      <td>0.003074</td>\n      <td>0.001038</td>\n      <td>0.000379</td>\n      <td>0.002277</td>\n      <td>0.003642</td>\n      <td>0.003615</td>\n      <td>0.002357</td>\n      <td>0.002516</td>\n      <td>0.004591</td>\n      <td>0.006369</td>\n      <td>...</td>\n      <td>0.004032</td>\n      <td>0.005307</td>\n      <td>0.001474</td>\n      <td>0.001244</td>\n      <td>0.009961</td>\n      <td>0.000710</td>\n      <td>0.002408</td>\n      <td>0.087517</td>\n      <td>0.001714</td>\n      <td>0.002333</td>\n    </tr>\n    <tr>\n      <th>sw_2015</th>\n      <td>0.002992</td>\n      <td>0.001027</td>\n      <td>0.000366</td>\n      <td>0.002333</td>\n      <td>0.003658</td>\n      <td>0.003721</td>\n      <td>0.002389</td>\n      <td>0.002529</td>\n      <td>0.004603</td>\n      <td>0.006440</td>\n      <td>...</td>\n      <td>0.004055</td>\n      <td>0.005273</td>\n      <td>0.001435</td>\n      <td>0.001260</td>\n      <td>0.010086</td>\n      <td>0.000735</td>\n      <td>0.002476</td>\n      <td>0.087552</td>\n      <td>0.001694</td>\n      <td>0.002343</td>\n    </tr>\n    <tr>\n      <th>sw_2016</th>\n      <td>0.003033</td>\n      <td>0.001027</td>\n      <td>0.000360</td>\n      <td>0.002144</td>\n      <td>0.003663</td>\n      <td>0.003680</td>\n      <td>0.002465</td>\n      <td>0.002889</td>\n      <td>0.004630</td>\n      <td>0.006768</td>\n      <td>...</td>\n      <td>0.003971</td>\n      <td>0.005393</td>\n      <td>0.001441</td>\n      <td>0.001285</td>\n      <td>0.010379</td>\n      <td>0.000729</td>\n      <td>0.002369</td>\n      <td>0.087355</td>\n      <td>0.001829</td>\n      <td>0.002477</td>\n    </tr>\n    <tr>\n      <th>sw_2017</th>\n      <td>0.003049</td>\n      <td>0.000952</td>\n      <td>0.000361</td>\n      <td>0.002210</td>\n      <td>0.003641</td>\n      <td>0.003784</td>\n      <td>0.002522</td>\n      <td>0.002950</td>\n      <td>0.004683</td>\n      <td>0.007009</td>\n      <td>...</td>\n      <td>0.003881</td>\n      <td>0.005438</td>\n      <td>0.001384</td>\n      <td>0.001326</td>\n      <td>0.010593</td>\n      <td>0.000725</td>\n      <td>0.002315</td>\n      <td>0.087527</td>\n      <td>0.001792</td>\n      <td>0.002531</td>\n    </tr>\n    <tr>\n      <th>sw_2018</th>\n      <td>0.002951</td>\n      <td>0.000960</td>\n      <td>0.000369</td>\n      <td>0.002215</td>\n      <td>0.003657</td>\n      <td>0.003718</td>\n      <td>0.002506</td>\n      <td>0.003019</td>\n      <td>0.004788</td>\n      <td>0.007015</td>\n      <td>...</td>\n      <td>0.003864</td>\n      <td>0.005529</td>\n      <td>0.001421</td>\n      <td>0.001327</td>\n      <td>0.010930</td>\n      <td>0.000731</td>\n      <td>0.002326</td>\n      <td>0.086123</td>\n      <td>0.001816</td>\n      <td>0.002573</td>\n    </tr>\n    <tr>\n      <th>sw_2019</th>\n      <td>0.002965</td>\n      <td>0.000925</td>\n      <td>0.000363</td>\n      <td>0.002130</td>\n      <td>0.003656</td>\n      <td>0.003668</td>\n      <td>0.002632</td>\n      <td>0.003175</td>\n      <td>0.004949</td>\n      <td>0.007242</td>\n      <td>...</td>\n      <td>0.003869</td>\n      <td>0.005727</td>\n      <td>0.001402</td>\n      <td>0.001354</td>\n      <td>0.011184</td>\n      <td>0.000676</td>\n      <td>0.002288</td>\n      <td>0.086241</td>\n      <td>0.001769</td>\n      <td>0.002648</td>\n    </tr>\n    <tr>\n      <th>sw_2020</th>\n      <td>0.002931</td>\n      <td>0.000899</td>\n      <td>0.000350</td>\n      <td>0.001949</td>\n      <td>0.003532</td>\n      <td>0.003623</td>\n      <td>0.002672</td>\n      <td>0.003292</td>\n      <td>0.005151</td>\n      <td>0.007842</td>\n      <td>...</td>\n      <td>0.003748</td>\n      <td>0.005962</td>\n      <td>0.001397</td>\n      <td>0.001409</td>\n      <td>0.011490</td>\n      <td>0.000681</td>\n      <td>0.002224</td>\n      <td>0.085880</td>\n      <td>0.001778</td>\n      <td>0.002966</td>\n    </tr>\n  </tbody>\n</table>\n<p>11 rows × 198 columns</p>\n</div>"
     },
     "metadata": {},
     "execution_count": 29
    }
   ],
   "source": [
    "df"
   ]
  },
  {
   "cell_type": "code",
   "execution_count": 30,
   "metadata": {},
   "outputs": [],
   "source": [
    "df = analyze_and_add(\"new_data/\", \"advice_2020\", df)"
   ]
  },
  {
   "cell_type": "code",
   "execution_count": 31,
   "metadata": {},
   "outputs": [
    {
     "output_type": "execute_result",
     "data": {
      "text/plain": [
       "                 help    office     dance     money   wedding  domestic_work  \\\n",
       "sw_2010      0.003094  0.001014  0.000433  0.002405  0.003223       0.003348   \n",
       "sw_2011      0.003101  0.001036  0.000429  0.002326  0.003421       0.003441   \n",
       "sw_2012      0.003147  0.000962  0.000376  0.002262  0.003530       0.003515   \n",
       "sw_2013      0.003114  0.000960  0.000347  0.002241  0.003617       0.003592   \n",
       "sw_2014      0.003074  0.001038  0.000379  0.002277  0.003642       0.003615   \n",
       "sw_2015      0.002992  0.001027  0.000366  0.002333  0.003658       0.003721   \n",
       "sw_2016      0.003033  0.001027  0.000360  0.002144  0.003663       0.003680   \n",
       "sw_2017      0.003049  0.000952  0.000361  0.002210  0.003641       0.003784   \n",
       "sw_2018      0.002951  0.000960  0.000369  0.002215  0.003657       0.003718   \n",
       "sw_2019      0.002965  0.000925  0.000363  0.002130  0.003656       0.003668   \n",
       "sw_2020      0.002931  0.000899  0.000350  0.001949  0.003532       0.003623   \n",
       "advice_2020  0.003611  0.001741  0.000512  0.003006  0.004040       0.004891   \n",
       "\n",
       "                sleep  medical_emergency      cold      hate  ...    giving  \\\n",
       "sw_2010      0.002120           0.002112  0.004620  0.005621  ...  0.004411   \n",
       "sw_2011      0.002229           0.002323  0.004581  0.005876  ...  0.004093   \n",
       "sw_2012      0.002328           0.002335  0.004499  0.006155  ...  0.004065   \n",
       "sw_2013      0.002353           0.002348  0.004554  0.006410  ...  0.003897   \n",
       "sw_2014      0.002357           0.002516  0.004591  0.006369  ...  0.004032   \n",
       "sw_2015      0.002389           0.002529  0.004603  0.006440  ...  0.004055   \n",
       "sw_2016      0.002465           0.002889  0.004630  0.006768  ...  0.003971   \n",
       "sw_2017      0.002522           0.002950  0.004683  0.007009  ...  0.003881   \n",
       "sw_2018      0.002506           0.003019  0.004788  0.007015  ...  0.003864   \n",
       "sw_2019      0.002632           0.003175  0.004949  0.007242  ...  0.003869   \n",
       "sw_2020      0.002672           0.003292  0.005151  0.007842  ...  0.003748   \n",
       "advice_2020  0.001734           0.001541  0.003505  0.003871  ...  0.004880   \n",
       "\n",
       "             contentment   writing     rural  positive_emotion   musical  \\\n",
       "sw_2010         0.005484  0.001650  0.001088          0.009259  0.000666   \n",
       "sw_2011         0.005378  0.001448  0.001122          0.009613  0.000695   \n",
       "sw_2012         0.005189  0.001432  0.001162          0.009748  0.000673   \n",
       "sw_2013         0.005254  0.001454  0.001197          0.010091  0.000674   \n",
       "sw_2014         0.005307  0.001474  0.001244          0.009961  0.000710   \n",
       "sw_2015         0.005273  0.001435  0.001260          0.010086  0.000735   \n",
       "sw_2016         0.005393  0.001441  0.001285          0.010379  0.000729   \n",
       "sw_2017         0.005438  0.001384  0.001326          0.010593  0.000725   \n",
       "sw_2018         0.005529  0.001421  0.001327          0.010930  0.000731   \n",
       "sw_2019         0.005727  0.001402  0.001354          0.011184  0.000676   \n",
       "sw_2020         0.005962  0.001397  0.001409          0.011490  0.000681   \n",
       "advice_2020     0.003587  0.001338  0.000988          0.007555  0.001020   \n",
       "\n",
       "             First_person_plural_pronoun  First_person_singular_pronoun  \\\n",
       "sw_2010                         0.002444                       0.082023   \n",
       "sw_2011                         0.002498                       0.083178   \n",
       "sw_2012                         0.002480                       0.085264   \n",
       "sw_2013                         0.002526                       0.088091   \n",
       "sw_2014                         0.002408                       0.087517   \n",
       "sw_2015                         0.002476                       0.087552   \n",
       "sw_2016                         0.002369                       0.087355   \n",
       "sw_2017                         0.002315                       0.087527   \n",
       "sw_2018                         0.002326                       0.086123   \n",
       "sw_2019                         0.002288                       0.086241   \n",
       "sw_2020                         0.002224                       0.085880   \n",
       "advice_2020                     0.006555                       0.073263   \n",
       "\n",
       "             thwarted_belonging  perceived_burdensomeness  \n",
       "sw_2010                0.001607                  0.002216  \n",
       "sw_2011                0.001684                  0.002222  \n",
       "sw_2012                0.001626                  0.002238  \n",
       "sw_2013                0.001643                  0.002265  \n",
       "sw_2014                0.001714                  0.002333  \n",
       "sw_2015                0.001694                  0.002343  \n",
       "sw_2016                0.001829                  0.002477  \n",
       "sw_2017                0.001792                  0.002531  \n",
       "sw_2018                0.001816                  0.002573  \n",
       "sw_2019                0.001769                  0.002648  \n",
       "sw_2020                0.001778                  0.002966  \n",
       "advice_2020            0.000757                  0.001126  \n",
       "\n",
       "[12 rows x 198 columns]"
      ],
      "text/html": "<div>\n<style scoped>\n    .dataframe tbody tr th:only-of-type {\n        vertical-align: middle;\n    }\n\n    .dataframe tbody tr th {\n        vertical-align: top;\n    }\n\n    .dataframe thead th {\n        text-align: right;\n    }\n</style>\n<table border=\"1\" class=\"dataframe\">\n  <thead>\n    <tr style=\"text-align: right;\">\n      <th></th>\n      <th>help</th>\n      <th>office</th>\n      <th>dance</th>\n      <th>money</th>\n      <th>wedding</th>\n      <th>domestic_work</th>\n      <th>sleep</th>\n      <th>medical_emergency</th>\n      <th>cold</th>\n      <th>hate</th>\n      <th>...</th>\n      <th>giving</th>\n      <th>contentment</th>\n      <th>writing</th>\n      <th>rural</th>\n      <th>positive_emotion</th>\n      <th>musical</th>\n      <th>First_person_plural_pronoun</th>\n      <th>First_person_singular_pronoun</th>\n      <th>thwarted_belonging</th>\n      <th>perceived_burdensomeness</th>\n    </tr>\n  </thead>\n  <tbody>\n    <tr>\n      <th>sw_2010</th>\n      <td>0.003094</td>\n      <td>0.001014</td>\n      <td>0.000433</td>\n      <td>0.002405</td>\n      <td>0.003223</td>\n      <td>0.003348</td>\n      <td>0.002120</td>\n      <td>0.002112</td>\n      <td>0.004620</td>\n      <td>0.005621</td>\n      <td>...</td>\n      <td>0.004411</td>\n      <td>0.005484</td>\n      <td>0.001650</td>\n      <td>0.001088</td>\n      <td>0.009259</td>\n      <td>0.000666</td>\n      <td>0.002444</td>\n      <td>0.082023</td>\n      <td>0.001607</td>\n      <td>0.002216</td>\n    </tr>\n    <tr>\n      <th>sw_2011</th>\n      <td>0.003101</td>\n      <td>0.001036</td>\n      <td>0.000429</td>\n      <td>0.002326</td>\n      <td>0.003421</td>\n      <td>0.003441</td>\n      <td>0.002229</td>\n      <td>0.002323</td>\n      <td>0.004581</td>\n      <td>0.005876</td>\n      <td>...</td>\n      <td>0.004093</td>\n      <td>0.005378</td>\n      <td>0.001448</td>\n      <td>0.001122</td>\n      <td>0.009613</td>\n      <td>0.000695</td>\n      <td>0.002498</td>\n      <td>0.083178</td>\n      <td>0.001684</td>\n      <td>0.002222</td>\n    </tr>\n    <tr>\n      <th>sw_2012</th>\n      <td>0.003147</td>\n      <td>0.000962</td>\n      <td>0.000376</td>\n      <td>0.002262</td>\n      <td>0.003530</td>\n      <td>0.003515</td>\n      <td>0.002328</td>\n      <td>0.002335</td>\n      <td>0.004499</td>\n      <td>0.006155</td>\n      <td>...</td>\n      <td>0.004065</td>\n      <td>0.005189</td>\n      <td>0.001432</td>\n      <td>0.001162</td>\n      <td>0.009748</td>\n      <td>0.000673</td>\n      <td>0.002480</td>\n      <td>0.085264</td>\n      <td>0.001626</td>\n      <td>0.002238</td>\n    </tr>\n    <tr>\n      <th>sw_2013</th>\n      <td>0.003114</td>\n      <td>0.000960</td>\n      <td>0.000347</td>\n      <td>0.002241</td>\n      <td>0.003617</td>\n      <td>0.003592</td>\n      <td>0.002353</td>\n      <td>0.002348</td>\n      <td>0.004554</td>\n      <td>0.006410</td>\n      <td>...</td>\n      <td>0.003897</td>\n      <td>0.005254</td>\n      <td>0.001454</td>\n      <td>0.001197</td>\n      <td>0.010091</td>\n      <td>0.000674</td>\n      <td>0.002526</td>\n      <td>0.088091</td>\n      <td>0.001643</td>\n      <td>0.002265</td>\n    </tr>\n    <tr>\n      <th>sw_2014</th>\n      <td>0.003074</td>\n      <td>0.001038</td>\n      <td>0.000379</td>\n      <td>0.002277</td>\n      <td>0.003642</td>\n      <td>0.003615</td>\n      <td>0.002357</td>\n      <td>0.002516</td>\n      <td>0.004591</td>\n      <td>0.006369</td>\n      <td>...</td>\n      <td>0.004032</td>\n      <td>0.005307</td>\n      <td>0.001474</td>\n      <td>0.001244</td>\n      <td>0.009961</td>\n      <td>0.000710</td>\n      <td>0.002408</td>\n      <td>0.087517</td>\n      <td>0.001714</td>\n      <td>0.002333</td>\n    </tr>\n    <tr>\n      <th>sw_2015</th>\n      <td>0.002992</td>\n      <td>0.001027</td>\n      <td>0.000366</td>\n      <td>0.002333</td>\n      <td>0.003658</td>\n      <td>0.003721</td>\n      <td>0.002389</td>\n      <td>0.002529</td>\n      <td>0.004603</td>\n      <td>0.006440</td>\n      <td>...</td>\n      <td>0.004055</td>\n      <td>0.005273</td>\n      <td>0.001435</td>\n      <td>0.001260</td>\n      <td>0.010086</td>\n      <td>0.000735</td>\n      <td>0.002476</td>\n      <td>0.087552</td>\n      <td>0.001694</td>\n      <td>0.002343</td>\n    </tr>\n    <tr>\n      <th>sw_2016</th>\n      <td>0.003033</td>\n      <td>0.001027</td>\n      <td>0.000360</td>\n      <td>0.002144</td>\n      <td>0.003663</td>\n      <td>0.003680</td>\n      <td>0.002465</td>\n      <td>0.002889</td>\n      <td>0.004630</td>\n      <td>0.006768</td>\n      <td>...</td>\n      <td>0.003971</td>\n      <td>0.005393</td>\n      <td>0.001441</td>\n      <td>0.001285</td>\n      <td>0.010379</td>\n      <td>0.000729</td>\n      <td>0.002369</td>\n      <td>0.087355</td>\n      <td>0.001829</td>\n      <td>0.002477</td>\n    </tr>\n    <tr>\n      <th>sw_2017</th>\n      <td>0.003049</td>\n      <td>0.000952</td>\n      <td>0.000361</td>\n      <td>0.002210</td>\n      <td>0.003641</td>\n      <td>0.003784</td>\n      <td>0.002522</td>\n      <td>0.002950</td>\n      <td>0.004683</td>\n      <td>0.007009</td>\n      <td>...</td>\n      <td>0.003881</td>\n      <td>0.005438</td>\n      <td>0.001384</td>\n      <td>0.001326</td>\n      <td>0.010593</td>\n      <td>0.000725</td>\n      <td>0.002315</td>\n      <td>0.087527</td>\n      <td>0.001792</td>\n      <td>0.002531</td>\n    </tr>\n    <tr>\n      <th>sw_2018</th>\n      <td>0.002951</td>\n      <td>0.000960</td>\n      <td>0.000369</td>\n      <td>0.002215</td>\n      <td>0.003657</td>\n      <td>0.003718</td>\n      <td>0.002506</td>\n      <td>0.003019</td>\n      <td>0.004788</td>\n      <td>0.007015</td>\n      <td>...</td>\n      <td>0.003864</td>\n      <td>0.005529</td>\n      <td>0.001421</td>\n      <td>0.001327</td>\n      <td>0.010930</td>\n      <td>0.000731</td>\n      <td>0.002326</td>\n      <td>0.086123</td>\n      <td>0.001816</td>\n      <td>0.002573</td>\n    </tr>\n    <tr>\n      <th>sw_2019</th>\n      <td>0.002965</td>\n      <td>0.000925</td>\n      <td>0.000363</td>\n      <td>0.002130</td>\n      <td>0.003656</td>\n      <td>0.003668</td>\n      <td>0.002632</td>\n      <td>0.003175</td>\n      <td>0.004949</td>\n      <td>0.007242</td>\n      <td>...</td>\n      <td>0.003869</td>\n      <td>0.005727</td>\n      <td>0.001402</td>\n      <td>0.001354</td>\n      <td>0.011184</td>\n      <td>0.000676</td>\n      <td>0.002288</td>\n      <td>0.086241</td>\n      <td>0.001769</td>\n      <td>0.002648</td>\n    </tr>\n    <tr>\n      <th>sw_2020</th>\n      <td>0.002931</td>\n      <td>0.000899</td>\n      <td>0.000350</td>\n      <td>0.001949</td>\n      <td>0.003532</td>\n      <td>0.003623</td>\n      <td>0.002672</td>\n      <td>0.003292</td>\n      <td>0.005151</td>\n      <td>0.007842</td>\n      <td>...</td>\n      <td>0.003748</td>\n      <td>0.005962</td>\n      <td>0.001397</td>\n      <td>0.001409</td>\n      <td>0.011490</td>\n      <td>0.000681</td>\n      <td>0.002224</td>\n      <td>0.085880</td>\n      <td>0.001778</td>\n      <td>0.002966</td>\n    </tr>\n    <tr>\n      <th>advice_2020</th>\n      <td>0.003611</td>\n      <td>0.001741</td>\n      <td>0.000512</td>\n      <td>0.003006</td>\n      <td>0.004040</td>\n      <td>0.004891</td>\n      <td>0.001734</td>\n      <td>0.001541</td>\n      <td>0.003505</td>\n      <td>0.003871</td>\n      <td>...</td>\n      <td>0.004880</td>\n      <td>0.003587</td>\n      <td>0.001338</td>\n      <td>0.000988</td>\n      <td>0.007555</td>\n      <td>0.001020</td>\n      <td>0.006555</td>\n      <td>0.073263</td>\n      <td>0.000757</td>\n      <td>0.001126</td>\n    </tr>\n  </tbody>\n</table>\n<p>12 rows × 198 columns</p>\n</div>"
     },
     "metadata": {},
     "execution_count": 31
    }
   ],
   "source": [
    "df"
   ]
  },
  {
   "cell_type": "code",
   "execution_count": 32,
   "metadata": {},
   "outputs": [],
   "source": [
    "df = analyze_and_add(\"new_data/\", \"trueaskreddit_2020\", df)"
   ]
  },
  {
   "cell_type": "code",
   "execution_count": 33,
   "metadata": {},
   "outputs": [
    {
     "output_type": "execute_result",
     "data": {
      "text/plain": [
       "                        help    office     dance     money   wedding  \\\n",
       "sw_2010             0.003094  0.001014  0.000433  0.002405  0.003223   \n",
       "sw_2011             0.003101  0.001036  0.000429  0.002326  0.003421   \n",
       "sw_2012             0.003147  0.000962  0.000376  0.002262  0.003530   \n",
       "sw_2013             0.003114  0.000960  0.000347  0.002241  0.003617   \n",
       "sw_2014             0.003074  0.001038  0.000379  0.002277  0.003642   \n",
       "sw_2015             0.002992  0.001027  0.000366  0.002333  0.003658   \n",
       "sw_2016             0.003033  0.001027  0.000360  0.002144  0.003663   \n",
       "sw_2017             0.003049  0.000952  0.000361  0.002210  0.003641   \n",
       "sw_2018             0.002951  0.000960  0.000369  0.002215  0.003657   \n",
       "sw_2019             0.002965  0.000925  0.000363  0.002130  0.003656   \n",
       "sw_2020             0.002931  0.000899  0.000350  0.001949  0.003532   \n",
       "advice_2020         0.003611  0.001741  0.000512  0.003006  0.004040   \n",
       "trueaskreddit_2020  0.002997  0.001338  0.000525  0.004058  0.002641   \n",
       "\n",
       "                    domestic_work     sleep  medical_emergency      cold  \\\n",
       "sw_2010                  0.003348  0.002120           0.002112  0.004620   \n",
       "sw_2011                  0.003441  0.002229           0.002323  0.004581   \n",
       "sw_2012                  0.003515  0.002328           0.002335  0.004499   \n",
       "sw_2013                  0.003592  0.002353           0.002348  0.004554   \n",
       "sw_2014                  0.003615  0.002357           0.002516  0.004591   \n",
       "sw_2015                  0.003721  0.002389           0.002529  0.004603   \n",
       "sw_2016                  0.003680  0.002465           0.002889  0.004630   \n",
       "sw_2017                  0.003784  0.002522           0.002950  0.004683   \n",
       "sw_2018                  0.003718  0.002506           0.003019  0.004788   \n",
       "sw_2019                  0.003668  0.002632           0.003175  0.004949   \n",
       "sw_2020                  0.003623  0.002672           0.003292  0.005151   \n",
       "advice_2020              0.004891  0.001734           0.001541  0.003505   \n",
       "trueaskreddit_2020       0.002240  0.000942           0.001783  0.002342   \n",
       "\n",
       "                        hate  ...    giving  contentment   writing     rural  \\\n",
       "sw_2010             0.005621  ...  0.004411     0.005484  0.001650  0.001088   \n",
       "sw_2011             0.005876  ...  0.004093     0.005378  0.001448  0.001122   \n",
       "sw_2012             0.006155  ...  0.004065     0.005189  0.001432  0.001162   \n",
       "sw_2013             0.006410  ...  0.003897     0.005254  0.001454  0.001197   \n",
       "sw_2014             0.006369  ...  0.004032     0.005307  0.001474  0.001244   \n",
       "sw_2015             0.006440  ...  0.004055     0.005273  0.001435  0.001260   \n",
       "sw_2016             0.006768  ...  0.003971     0.005393  0.001441  0.001285   \n",
       "sw_2017             0.007009  ...  0.003881     0.005438  0.001384  0.001326   \n",
       "sw_2018             0.007015  ...  0.003864     0.005529  0.001421  0.001327   \n",
       "sw_2019             0.007242  ...  0.003869     0.005727  0.001402  0.001354   \n",
       "sw_2020             0.007842  ...  0.003748     0.005962  0.001397  0.001409   \n",
       "advice_2020         0.003871  ...  0.004880     0.003587  0.001338  0.000988   \n",
       "trueaskreddit_2020  0.003008  ...  0.004250     0.002274  0.001608  0.000976   \n",
       "\n",
       "                    positive_emotion   musical  First_person_plural_pronoun  \\\n",
       "sw_2010                     0.009259  0.000666                     0.002444   \n",
       "sw_2011                     0.009613  0.000695                     0.002498   \n",
       "sw_2012                     0.009748  0.000673                     0.002480   \n",
       "sw_2013                     0.010091  0.000674                     0.002526   \n",
       "sw_2014                     0.009961  0.000710                     0.002408   \n",
       "sw_2015                     0.010086  0.000735                     0.002476   \n",
       "sw_2016                     0.010379  0.000729                     0.002369   \n",
       "sw_2017                     0.010593  0.000725                     0.002315   \n",
       "sw_2018                     0.010930  0.000731                     0.002326   \n",
       "sw_2019                     0.011184  0.000676                     0.002288   \n",
       "sw_2020                     0.011490  0.000681                     0.002224   \n",
       "advice_2020                 0.007555  0.001020                     0.006555   \n",
       "trueaskreddit_2020          0.005548  0.001095                     0.006270   \n",
       "\n",
       "                    First_person_singular_pronoun  thwarted_belonging  \\\n",
       "sw_2010                                  0.082023            0.001607   \n",
       "sw_2011                                  0.083178            0.001684   \n",
       "sw_2012                                  0.085264            0.001626   \n",
       "sw_2013                                  0.088091            0.001643   \n",
       "sw_2014                                  0.087517            0.001714   \n",
       "sw_2015                                  0.087552            0.001694   \n",
       "sw_2016                                  0.087355            0.001829   \n",
       "sw_2017                                  0.087527            0.001792   \n",
       "sw_2018                                  0.086123            0.001816   \n",
       "sw_2019                                  0.086241            0.001769   \n",
       "sw_2020                                  0.085880            0.001778   \n",
       "advice_2020                              0.073263            0.000757   \n",
       "trueaskreddit_2020                       0.036057            0.000886   \n",
       "\n",
       "                    perceived_burdensomeness  \n",
       "sw_2010                             0.002216  \n",
       "sw_2011                             0.002222  \n",
       "sw_2012                             0.002238  \n",
       "sw_2013                             0.002265  \n",
       "sw_2014                             0.002333  \n",
       "sw_2015                             0.002343  \n",
       "sw_2016                             0.002477  \n",
       "sw_2017                             0.002531  \n",
       "sw_2018                             0.002573  \n",
       "sw_2019                             0.002648  \n",
       "sw_2020                             0.002966  \n",
       "advice_2020                         0.001126  \n",
       "trueaskreddit_2020                  0.001806  \n",
       "\n",
       "[13 rows x 198 columns]"
      ],
      "text/html": "<div>\n<style scoped>\n    .dataframe tbody tr th:only-of-type {\n        vertical-align: middle;\n    }\n\n    .dataframe tbody tr th {\n        vertical-align: top;\n    }\n\n    .dataframe thead th {\n        text-align: right;\n    }\n</style>\n<table border=\"1\" class=\"dataframe\">\n  <thead>\n    <tr style=\"text-align: right;\">\n      <th></th>\n      <th>help</th>\n      <th>office</th>\n      <th>dance</th>\n      <th>money</th>\n      <th>wedding</th>\n      <th>domestic_work</th>\n      <th>sleep</th>\n      <th>medical_emergency</th>\n      <th>cold</th>\n      <th>hate</th>\n      <th>...</th>\n      <th>giving</th>\n      <th>contentment</th>\n      <th>writing</th>\n      <th>rural</th>\n      <th>positive_emotion</th>\n      <th>musical</th>\n      <th>First_person_plural_pronoun</th>\n      <th>First_person_singular_pronoun</th>\n      <th>thwarted_belonging</th>\n      <th>perceived_burdensomeness</th>\n    </tr>\n  </thead>\n  <tbody>\n    <tr>\n      <th>sw_2010</th>\n      <td>0.003094</td>\n      <td>0.001014</td>\n      <td>0.000433</td>\n      <td>0.002405</td>\n      <td>0.003223</td>\n      <td>0.003348</td>\n      <td>0.002120</td>\n      <td>0.002112</td>\n      <td>0.004620</td>\n      <td>0.005621</td>\n      <td>...</td>\n      <td>0.004411</td>\n      <td>0.005484</td>\n      <td>0.001650</td>\n      <td>0.001088</td>\n      <td>0.009259</td>\n      <td>0.000666</td>\n      <td>0.002444</td>\n      <td>0.082023</td>\n      <td>0.001607</td>\n      <td>0.002216</td>\n    </tr>\n    <tr>\n      <th>sw_2011</th>\n      <td>0.003101</td>\n      <td>0.001036</td>\n      <td>0.000429</td>\n      <td>0.002326</td>\n      <td>0.003421</td>\n      <td>0.003441</td>\n      <td>0.002229</td>\n      <td>0.002323</td>\n      <td>0.004581</td>\n      <td>0.005876</td>\n      <td>...</td>\n      <td>0.004093</td>\n      <td>0.005378</td>\n      <td>0.001448</td>\n      <td>0.001122</td>\n      <td>0.009613</td>\n      <td>0.000695</td>\n      <td>0.002498</td>\n      <td>0.083178</td>\n      <td>0.001684</td>\n      <td>0.002222</td>\n    </tr>\n    <tr>\n      <th>sw_2012</th>\n      <td>0.003147</td>\n      <td>0.000962</td>\n      <td>0.000376</td>\n      <td>0.002262</td>\n      <td>0.003530</td>\n      <td>0.003515</td>\n      <td>0.002328</td>\n      <td>0.002335</td>\n      <td>0.004499</td>\n      <td>0.006155</td>\n      <td>...</td>\n      <td>0.004065</td>\n      <td>0.005189</td>\n      <td>0.001432</td>\n      <td>0.001162</td>\n      <td>0.009748</td>\n      <td>0.000673</td>\n      <td>0.002480</td>\n      <td>0.085264</td>\n      <td>0.001626</td>\n      <td>0.002238</td>\n    </tr>\n    <tr>\n      <th>sw_2013</th>\n      <td>0.003114</td>\n      <td>0.000960</td>\n      <td>0.000347</td>\n      <td>0.002241</td>\n      <td>0.003617</td>\n      <td>0.003592</td>\n      <td>0.002353</td>\n      <td>0.002348</td>\n      <td>0.004554</td>\n      <td>0.006410</td>\n      <td>...</td>\n      <td>0.003897</td>\n      <td>0.005254</td>\n      <td>0.001454</td>\n      <td>0.001197</td>\n      <td>0.010091</td>\n      <td>0.000674</td>\n      <td>0.002526</td>\n      <td>0.088091</td>\n      <td>0.001643</td>\n      <td>0.002265</td>\n    </tr>\n    <tr>\n      <th>sw_2014</th>\n      <td>0.003074</td>\n      <td>0.001038</td>\n      <td>0.000379</td>\n      <td>0.002277</td>\n      <td>0.003642</td>\n      <td>0.003615</td>\n      <td>0.002357</td>\n      <td>0.002516</td>\n      <td>0.004591</td>\n      <td>0.006369</td>\n      <td>...</td>\n      <td>0.004032</td>\n      <td>0.005307</td>\n      <td>0.001474</td>\n      <td>0.001244</td>\n      <td>0.009961</td>\n      <td>0.000710</td>\n      <td>0.002408</td>\n      <td>0.087517</td>\n      <td>0.001714</td>\n      <td>0.002333</td>\n    </tr>\n    <tr>\n      <th>sw_2015</th>\n      <td>0.002992</td>\n      <td>0.001027</td>\n      <td>0.000366</td>\n      <td>0.002333</td>\n      <td>0.003658</td>\n      <td>0.003721</td>\n      <td>0.002389</td>\n      <td>0.002529</td>\n      <td>0.004603</td>\n      <td>0.006440</td>\n      <td>...</td>\n      <td>0.004055</td>\n      <td>0.005273</td>\n      <td>0.001435</td>\n      <td>0.001260</td>\n      <td>0.010086</td>\n      <td>0.000735</td>\n      <td>0.002476</td>\n      <td>0.087552</td>\n      <td>0.001694</td>\n      <td>0.002343</td>\n    </tr>\n    <tr>\n      <th>sw_2016</th>\n      <td>0.003033</td>\n      <td>0.001027</td>\n      <td>0.000360</td>\n      <td>0.002144</td>\n      <td>0.003663</td>\n      <td>0.003680</td>\n      <td>0.002465</td>\n      <td>0.002889</td>\n      <td>0.004630</td>\n      <td>0.006768</td>\n      <td>...</td>\n      <td>0.003971</td>\n      <td>0.005393</td>\n      <td>0.001441</td>\n      <td>0.001285</td>\n      <td>0.010379</td>\n      <td>0.000729</td>\n      <td>0.002369</td>\n      <td>0.087355</td>\n      <td>0.001829</td>\n      <td>0.002477</td>\n    </tr>\n    <tr>\n      <th>sw_2017</th>\n      <td>0.003049</td>\n      <td>0.000952</td>\n      <td>0.000361</td>\n      <td>0.002210</td>\n      <td>0.003641</td>\n      <td>0.003784</td>\n      <td>0.002522</td>\n      <td>0.002950</td>\n      <td>0.004683</td>\n      <td>0.007009</td>\n      <td>...</td>\n      <td>0.003881</td>\n      <td>0.005438</td>\n      <td>0.001384</td>\n      <td>0.001326</td>\n      <td>0.010593</td>\n      <td>0.000725</td>\n      <td>0.002315</td>\n      <td>0.087527</td>\n      <td>0.001792</td>\n      <td>0.002531</td>\n    </tr>\n    <tr>\n      <th>sw_2018</th>\n      <td>0.002951</td>\n      <td>0.000960</td>\n      <td>0.000369</td>\n      <td>0.002215</td>\n      <td>0.003657</td>\n      <td>0.003718</td>\n      <td>0.002506</td>\n      <td>0.003019</td>\n      <td>0.004788</td>\n      <td>0.007015</td>\n      <td>...</td>\n      <td>0.003864</td>\n      <td>0.005529</td>\n      <td>0.001421</td>\n      <td>0.001327</td>\n      <td>0.010930</td>\n      <td>0.000731</td>\n      <td>0.002326</td>\n      <td>0.086123</td>\n      <td>0.001816</td>\n      <td>0.002573</td>\n    </tr>\n    <tr>\n      <th>sw_2019</th>\n      <td>0.002965</td>\n      <td>0.000925</td>\n      <td>0.000363</td>\n      <td>0.002130</td>\n      <td>0.003656</td>\n      <td>0.003668</td>\n      <td>0.002632</td>\n      <td>0.003175</td>\n      <td>0.004949</td>\n      <td>0.007242</td>\n      <td>...</td>\n      <td>0.003869</td>\n      <td>0.005727</td>\n      <td>0.001402</td>\n      <td>0.001354</td>\n      <td>0.011184</td>\n      <td>0.000676</td>\n      <td>0.002288</td>\n      <td>0.086241</td>\n      <td>0.001769</td>\n      <td>0.002648</td>\n    </tr>\n    <tr>\n      <th>sw_2020</th>\n      <td>0.002931</td>\n      <td>0.000899</td>\n      <td>0.000350</td>\n      <td>0.001949</td>\n      <td>0.003532</td>\n      <td>0.003623</td>\n      <td>0.002672</td>\n      <td>0.003292</td>\n      <td>0.005151</td>\n      <td>0.007842</td>\n      <td>...</td>\n      <td>0.003748</td>\n      <td>0.005962</td>\n      <td>0.001397</td>\n      <td>0.001409</td>\n      <td>0.011490</td>\n      <td>0.000681</td>\n      <td>0.002224</td>\n      <td>0.085880</td>\n      <td>0.001778</td>\n      <td>0.002966</td>\n    </tr>\n    <tr>\n      <th>advice_2020</th>\n      <td>0.003611</td>\n      <td>0.001741</td>\n      <td>0.000512</td>\n      <td>0.003006</td>\n      <td>0.004040</td>\n      <td>0.004891</td>\n      <td>0.001734</td>\n      <td>0.001541</td>\n      <td>0.003505</td>\n      <td>0.003871</td>\n      <td>...</td>\n      <td>0.004880</td>\n      <td>0.003587</td>\n      <td>0.001338</td>\n      <td>0.000988</td>\n      <td>0.007555</td>\n      <td>0.001020</td>\n      <td>0.006555</td>\n      <td>0.073263</td>\n      <td>0.000757</td>\n      <td>0.001126</td>\n    </tr>\n    <tr>\n      <th>trueaskreddit_2020</th>\n      <td>0.002997</td>\n      <td>0.001338</td>\n      <td>0.000525</td>\n      <td>0.004058</td>\n      <td>0.002641</td>\n      <td>0.002240</td>\n      <td>0.000942</td>\n      <td>0.001783</td>\n      <td>0.002342</td>\n      <td>0.003008</td>\n      <td>...</td>\n      <td>0.004250</td>\n      <td>0.002274</td>\n      <td>0.001608</td>\n      <td>0.000976</td>\n      <td>0.005548</td>\n      <td>0.001095</td>\n      <td>0.006270</td>\n      <td>0.036057</td>\n      <td>0.000886</td>\n      <td>0.001806</td>\n    </tr>\n  </tbody>\n</table>\n<p>13 rows × 198 columns</p>\n</div>"
     },
     "metadata": {},
     "execution_count": 33
    }
   ],
   "source": [
    "df"
   ]
  },
  {
   "cell_type": "code",
   "execution_count": 34,
   "metadata": {},
   "outputs": [],
   "source": [
    "df.to_csv(\"results_with_new_categories.csv\")"
   ]
  },
  {
   "cell_type": "code",
   "execution_count": 35,
   "metadata": {},
   "outputs": [
    {
     "output_type": "execute_result",
     "data": {
      "text/plain": [
       "sw_2010               0.460560\n",
       "sw_2011               0.464876\n",
       "sw_2012               0.468698\n",
       "sw_2013               0.477038\n",
       "sw_2014               0.478930\n",
       "sw_2015               0.479796\n",
       "sw_2016               0.485799\n",
       "sw_2017               0.490677\n",
       "sw_2018               0.491018\n",
       "sw_2019               0.493697\n",
       "sw_2020               0.497767\n",
       "advice_2020           0.452496\n",
       "trueaskreddit_2020    0.389666\n",
       "dtype: float64"
      ]
     },
     "metadata": {},
     "execution_count": 35
    }
   ],
   "source": [
    "df.sum(axis=1)"
   ]
  },
  {
   "source": [
    "# Generation of a new category (loneliness)\n"
   ],
   "cell_type": "markdown",
   "metadata": {}
  },
  {
   "cell_type": "code",
   "execution_count": 23,
   "metadata": {},
   "outputs": [
    {
     "output_type": "stream",
     "name": "stdout",
     "text": [
      "[\"loneliness\", \"abandonment\", \"unhappiness\", \"insecurity\", \"isolation\", \"betrayal\", \"rejection\", \"torment\", \"heartache\", \"hopelessness\", \"lonliness\", \"suffering\", \"grief\", \"devastation\", \"helplessness\", \"turmoil\", \"heartbreak\", \"hardship\", \"selfishness\", \"cruelty\", \"resentment\", \"self-loathing\", \"emptiness\", \"despair\", \"guilt\", \"misery\", \"longing\", \"paranoia\", \"Loneliness\", \"sorrow\", \"humiliation\", \"solitude\", \"remorse\", \"yearning\", \"ignorance\", \"hardships\", \"separation\", \"physical_pain\", \"emotional_pain\", \"regret\", \"desolation\", \"cowardice\", \"negativity\", \"tragedy\", \"numbness\", \"heart_break\", \"strife\", \"sufferings\", \"injustice\", \"overwhelming_feeling\", \"such_pain\", \"anguish\", \"nostalgia\", \"blindness\", \"normality\", \"delusion\", \"trauma\", \"insanity\", \"homesickness\", \"empathy\", \"vulnerability\", \"sadness\", \"certainty\", \"apathy\", \"other_feelings\", \"own_pain\", \"greed\", \"negative_emotions\", \"depression\", \"angst\", \"fear\", \"horrors\", \"withdrawal\", \"neglect\", \"Depression\", \"hatred\", \"deep_sense\", \"judgement\", \"strong_sense\", \"only_pain\", \"human_life\", \"brutality\", \"bitterness\", \"judgment\", \"madness\", \"restlessness\", \"whole_being\", \"compassion\", \"companionship\", \"burdened\", \"overcome\", \"affliction\", \"loathing\", \"loved_one\", \"mental_state\", \"desires\", \"endured\", \"clarity\", \"Hatred\", \"experiencing\"]\n"
     ]
    }
   ],
   "source": [
    "import pandas\n",
    "from empath import Empath\n",
    "lexicon = Empath()\n",
    "lexicon.create_category(\"thwarted_belonging\", [\"isolation\", \"loneliness\", \"abandonment\", \"rejection\"])"
   ]
  },
  {
   "cell_type": "code",
   "execution_count": 24,
   "metadata": {},
   "outputs": [
    {
     "output_type": "stream",
     "name": "stdout",
     "text": [
      "[\"useless\", \"burden\", \"failure\", \"unworthy\", \"selfish\", \"nuisance\", \"unfit\", \"hopeless\", \"pathetic\", \"unwanted\", \"dependent\", \"foolish\", \"pointless\", \"burdens\", \"hindrance\", \"powerless\", \"unimportant\", \"worthless\", \"burdened\", \"necessity\", \"defenseless\", \"unreasonable\", \"weak\", \"helpless\", \"responsibility\", \"meaningless\", \"human_being\", \"disadvantage\", \"neglected\", \"shameful\", \"consequence\", \"last_resort\", \"defenceless\", \"mentality\", \"only_choice\", \"mindset\", \"responsibilities\", \"insignificant\", \"incompetent\", \"coward\", \"greedy\", \"indestructible\", \"cruel\", \"inferior\", \"free_will\", \"invincible\", \"weakling\", \"relying\", \"lost_cause\", \"miserable\", \"ignorant\", \"morals\", \"human_life\", \"worth\", \"responsible\", \"Yet\", \"harmful\", \"inadequate\", \"unjust\", \"unfair\", \"mental_state\", \"suffering\", \"therefore\", \"careless\", \"incapable\", \"dysfunctional\", \"hardship\", \"suffer\", \"existing\", \"sacrifice\", \"death_sentence\", \"humanity\", \"troublesome\", \"unneeded\", \"grateful\", \"dependant\", \"pitiful\", \"unhappy\", \"capable\", \"impossible\", \"rational\", \"lousy\", \"unreliable\", \"irrational\", \"saving\", \"unfortunate\", \"own_free_will\", \"selfishly\", \"corrupt\", \"cowardly\", \"gain\", \"corrupted\", \"sacrifices\", \"incapacitated\", \"useful\", \"petty\", \"essentially\", \"human_nature\", \"heavy_burden\"]\n"
     ]
    }
   ],
   "source": [
    "lexicon.create_category(\"perceived_burdensomeness\", [\"burden\", \"useless\", \"good-for-nothing\", \"lousy\"])"
   ]
  },
  {
   "cell_type": "code",
   "execution_count": 43,
   "metadata": {},
   "outputs": [],
   "source": [
    "cat = pandas.read_csv(\"categories.tsv\", sep=\"\\t\", usecols=[0])"
   ]
  },
  {
   "cell_type": "code",
   "execution_count": 44,
   "metadata": {},
   "outputs": [
    {
     "output_type": "execute_result",
     "data": {
      "text/plain": [
       "                                                                                                                                                                                                                                                                                                                                                                              help\n",
       "office           office       laptop    bookshelf manager     keyboard  chair      backroom   staff     tablet      clipboard  employee    folder      administrative counsellor  colleague  fax        assistant   supervise   therapist    consultant computer  organizing reception   printing     marketing  lecture       schedule   briefing   binder     advisor        NaN\n",
       "dance            choreography dance     chord     ballet      glee      practice   onstage    jukebox   hip         waltz      dj          song        contemporary   band        practicing swaying    turns       disco       choir        rock       radio     partying   sync        bounce       gymnastics twirling      rehearsing chorus     rehearse   choreographer  NaN\n",
       "money            drachma      shilling  yen       money       bail      splurge    bank       treasury  employee    worth      paying      finance     dollar         income      allowance  buyer      trade       merchandise fortune      prize      banking   wage       deduct      financial    receipt    budget        cost       voucher    employment investment     NaN\n",
       "wedding          planning     oldest    wed       fiancee     debutante jeweler    beloved    announce  appointment finalize   propose     commemorate wedding        dowry       courtship  valentine  celebrate   arrange     gift         marry      married   official   husband     someday      pledge     church        marital    stepson    ecstatic   wedlock        NaN\n",
       "domestic_work    chore        mom       vacuum    scrubbing   cook      washing    baking     wash      morning     meal       house       chef        laundry        bake        organizing cooking    spotless    mum         washer       remodeling parent    job        nanny       kitchen      dishwasher cleaning      family     cleaner    bathroom   errand         NaN\n",
       "...                                                                                                                                                                                                                                                                                                                                                                            ...\n",
       "contentment      languid      pleaser   closeness pulsing     fullness  happiness  gentleness nostalgia fervor      pleasing   pleasurable amorous     compassion     tantalizing kindness   thrill     profound    delightful  delightfully sensation  arouse    momentary  familiarity exhilaration passion    gratitude     joy        relaxation lightness  bask           NaN\n",
       "writing          essay        poetry    paper     thesis      portfolio creative   parchment  write     calligraphy tablet     writing     blackboard  clipboard      stationery  brainstorm homework   descriptive notation    read         eulogy     diary     postcard   list        summary      revision   page          wrote      lettering  excerpt    scribe         NaN\n",
       "rural            ramshackle   barren    cornfield schoolhouse quaint    plantation townsfolk  folk      forested    idyllic    scenic      farmhouse   meadow         uninhabited prairie    migration  southwest   settlement  farm         wheat      outlying  farmland   environment settler      road       secluded      colony     county     village    campground     NaN\n",
       "positive_emotion happiness    enlighten better    enthusiasm  pride     joyful     compassion dearly    forgiving   kindness   bravery     closure     thrill         honestly    triumph    bond       honesty     alive       concern      reunite    joy       surprise   forgiveness assurance    sympathize understanding reason     rejoice    care       faith          NaN\n",
       "musical          chord        producer  radio     keyboard    clarinet  ballet     harmonica  glee      instrument  production rhythm      piano       songwriting    string      song       songwriter band        banjo       artist       audience   saxophone acoustic   gospel      quartet      auditorium concert       turntable  medley     melody     harp           NaN\n",
       "\n",
       "[193 rows x 1 columns]"
      ],
      "text/html": "<div>\n<style scoped>\n    .dataframe tbody tr th:only-of-type {\n        vertical-align: middle;\n    }\n\n    .dataframe tbody tr th {\n        vertical-align: top;\n    }\n\n    .dataframe thead th {\n        text-align: right;\n    }\n</style>\n<table border=\"1\" class=\"dataframe\">\n  <thead>\n    <tr style=\"text-align: right;\">\n      <th></th>\n      <th></th>\n      <th></th>\n      <th></th>\n      <th></th>\n      <th></th>\n      <th></th>\n      <th></th>\n      <th></th>\n      <th></th>\n      <th></th>\n      <th></th>\n      <th></th>\n      <th></th>\n      <th></th>\n      <th></th>\n      <th></th>\n      <th></th>\n      <th></th>\n      <th></th>\n      <th></th>\n      <th></th>\n      <th></th>\n      <th></th>\n      <th></th>\n      <th></th>\n      <th></th>\n      <th></th>\n      <th></th>\n      <th></th>\n      <th></th>\n      <th>help</th>\n    </tr>\n  </thead>\n  <tbody>\n    <tr>\n      <th>office</th>\n      <th>office</th>\n      <th>laptop</th>\n      <th>bookshelf</th>\n      <th>manager</th>\n      <th>keyboard</th>\n      <th>chair</th>\n      <th>backroom</th>\n      <th>staff</th>\n      <th>tablet</th>\n      <th>clipboard</th>\n      <th>employee</th>\n      <th>folder</th>\n      <th>administrative</th>\n      <th>counsellor</th>\n      <th>colleague</th>\n      <th>fax</th>\n      <th>assistant</th>\n      <th>supervise</th>\n      <th>therapist</th>\n      <th>consultant</th>\n      <th>computer</th>\n      <th>organizing</th>\n      <th>reception</th>\n      <th>printing</th>\n      <th>marketing</th>\n      <th>lecture</th>\n      <th>schedule</th>\n      <th>briefing</th>\n      <th>binder</th>\n      <th>advisor</th>\n      <td>NaN</td>\n    </tr>\n    <tr>\n      <th>dance</th>\n      <th>choreography</th>\n      <th>dance</th>\n      <th>chord</th>\n      <th>ballet</th>\n      <th>glee</th>\n      <th>practice</th>\n      <th>onstage</th>\n      <th>jukebox</th>\n      <th>hip</th>\n      <th>waltz</th>\n      <th>dj</th>\n      <th>song</th>\n      <th>contemporary</th>\n      <th>band</th>\n      <th>practicing</th>\n      <th>swaying</th>\n      <th>turns</th>\n      <th>disco</th>\n      <th>choir</th>\n      <th>rock</th>\n      <th>radio</th>\n      <th>partying</th>\n      <th>sync</th>\n      <th>bounce</th>\n      <th>gymnastics</th>\n      <th>twirling</th>\n      <th>rehearsing</th>\n      <th>chorus</th>\n      <th>rehearse</th>\n      <th>choreographer</th>\n      <td>NaN</td>\n    </tr>\n    <tr>\n      <th>money</th>\n      <th>drachma</th>\n      <th>shilling</th>\n      <th>yen</th>\n      <th>money</th>\n      <th>bail</th>\n      <th>splurge</th>\n      <th>bank</th>\n      <th>treasury</th>\n      <th>employee</th>\n      <th>worth</th>\n      <th>paying</th>\n      <th>finance</th>\n      <th>dollar</th>\n      <th>income</th>\n      <th>allowance</th>\n      <th>buyer</th>\n      <th>trade</th>\n      <th>merchandise</th>\n      <th>fortune</th>\n      <th>prize</th>\n      <th>banking</th>\n      <th>wage</th>\n      <th>deduct</th>\n      <th>financial</th>\n      <th>receipt</th>\n      <th>budget</th>\n      <th>cost</th>\n      <th>voucher</th>\n      <th>employment</th>\n      <th>investment</th>\n      <td>NaN</td>\n    </tr>\n    <tr>\n      <th>wedding</th>\n      <th>planning</th>\n      <th>oldest</th>\n      <th>wed</th>\n      <th>fiancee</th>\n      <th>debutante</th>\n      <th>jeweler</th>\n      <th>beloved</th>\n      <th>announce</th>\n      <th>appointment</th>\n      <th>finalize</th>\n      <th>propose</th>\n      <th>commemorate</th>\n      <th>wedding</th>\n      <th>dowry</th>\n      <th>courtship</th>\n      <th>valentine</th>\n      <th>celebrate</th>\n      <th>arrange</th>\n      <th>gift</th>\n      <th>marry</th>\n      <th>married</th>\n      <th>official</th>\n      <th>husband</th>\n      <th>someday</th>\n      <th>pledge</th>\n      <th>church</th>\n      <th>marital</th>\n      <th>stepson</th>\n      <th>ecstatic</th>\n      <th>wedlock</th>\n      <td>NaN</td>\n    </tr>\n    <tr>\n      <th>domestic_work</th>\n      <th>chore</th>\n      <th>mom</th>\n      <th>vacuum</th>\n      <th>scrubbing</th>\n      <th>cook</th>\n      <th>washing</th>\n      <th>baking</th>\n      <th>wash</th>\n      <th>morning</th>\n      <th>meal</th>\n      <th>house</th>\n      <th>chef</th>\n      <th>laundry</th>\n      <th>bake</th>\n      <th>organizing</th>\n      <th>cooking</th>\n      <th>spotless</th>\n      <th>mum</th>\n      <th>washer</th>\n      <th>remodeling</th>\n      <th>parent</th>\n      <th>job</th>\n      <th>nanny</th>\n      <th>kitchen</th>\n      <th>dishwasher</th>\n      <th>cleaning</th>\n      <th>family</th>\n      <th>cleaner</th>\n      <th>bathroom</th>\n      <th>errand</th>\n      <td>NaN</td>\n    </tr>\n    <tr>\n      <th>...</th>\n      <th>...</th>\n      <th>...</th>\n      <th>...</th>\n      <th>...</th>\n      <th>...</th>\n      <th>...</th>\n      <th>...</th>\n      <th>...</th>\n      <th>...</th>\n      <th>...</th>\n      <th>...</th>\n      <th>...</th>\n      <th>...</th>\n      <th>...</th>\n      <th>...</th>\n      <th>...</th>\n      <th>...</th>\n      <th>...</th>\n      <th>...</th>\n      <th>...</th>\n      <th>...</th>\n      <th>...</th>\n      <th>...</th>\n      <th>...</th>\n      <th>...</th>\n      <th>...</th>\n      <th>...</th>\n      <th>...</th>\n      <th>...</th>\n      <th>...</th>\n      <td>...</td>\n    </tr>\n    <tr>\n      <th>contentment</th>\n      <th>languid</th>\n      <th>pleaser</th>\n      <th>closeness</th>\n      <th>pulsing</th>\n      <th>fullness</th>\n      <th>happiness</th>\n      <th>gentleness</th>\n      <th>nostalgia</th>\n      <th>fervor</th>\n      <th>pleasing</th>\n      <th>pleasurable</th>\n      <th>amorous</th>\n      <th>compassion</th>\n      <th>tantalizing</th>\n      <th>kindness</th>\n      <th>thrill</th>\n      <th>profound</th>\n      <th>delightful</th>\n      <th>delightfully</th>\n      <th>sensation</th>\n      <th>arouse</th>\n      <th>momentary</th>\n      <th>familiarity</th>\n      <th>exhilaration</th>\n      <th>passion</th>\n      <th>gratitude</th>\n      <th>joy</th>\n      <th>relaxation</th>\n      <th>lightness</th>\n      <th>bask</th>\n      <td>NaN</td>\n    </tr>\n    <tr>\n      <th>writing</th>\n      <th>essay</th>\n      <th>poetry</th>\n      <th>paper</th>\n      <th>thesis</th>\n      <th>portfolio</th>\n      <th>creative</th>\n      <th>parchment</th>\n      <th>write</th>\n      <th>calligraphy</th>\n      <th>tablet</th>\n      <th>writing</th>\n      <th>blackboard</th>\n      <th>clipboard</th>\n      <th>stationery</th>\n      <th>brainstorm</th>\n      <th>homework</th>\n      <th>descriptive</th>\n      <th>notation</th>\n      <th>read</th>\n      <th>eulogy</th>\n      <th>diary</th>\n      <th>postcard</th>\n      <th>list</th>\n      <th>summary</th>\n      <th>revision</th>\n      <th>page</th>\n      <th>wrote</th>\n      <th>lettering</th>\n      <th>excerpt</th>\n      <th>scribe</th>\n      <td>NaN</td>\n    </tr>\n    <tr>\n      <th>rural</th>\n      <th>ramshackle</th>\n      <th>barren</th>\n      <th>cornfield</th>\n      <th>schoolhouse</th>\n      <th>quaint</th>\n      <th>plantation</th>\n      <th>townsfolk</th>\n      <th>folk</th>\n      <th>forested</th>\n      <th>idyllic</th>\n      <th>scenic</th>\n      <th>farmhouse</th>\n      <th>meadow</th>\n      <th>uninhabited</th>\n      <th>prairie</th>\n      <th>migration</th>\n      <th>southwest</th>\n      <th>settlement</th>\n      <th>farm</th>\n      <th>wheat</th>\n      <th>outlying</th>\n      <th>farmland</th>\n      <th>environment</th>\n      <th>settler</th>\n      <th>road</th>\n      <th>secluded</th>\n      <th>colony</th>\n      <th>county</th>\n      <th>village</th>\n      <th>campground</th>\n      <td>NaN</td>\n    </tr>\n    <tr>\n      <th>positive_emotion</th>\n      <th>happiness</th>\n      <th>enlighten</th>\n      <th>better</th>\n      <th>enthusiasm</th>\n      <th>pride</th>\n      <th>joyful</th>\n      <th>compassion</th>\n      <th>dearly</th>\n      <th>forgiving</th>\n      <th>kindness</th>\n      <th>bravery</th>\n      <th>closure</th>\n      <th>thrill</th>\n      <th>honestly</th>\n      <th>triumph</th>\n      <th>bond</th>\n      <th>honesty</th>\n      <th>alive</th>\n      <th>concern</th>\n      <th>reunite</th>\n      <th>joy</th>\n      <th>surprise</th>\n      <th>forgiveness</th>\n      <th>assurance</th>\n      <th>sympathize</th>\n      <th>understanding</th>\n      <th>reason</th>\n      <th>rejoice</th>\n      <th>care</th>\n      <th>faith</th>\n      <td>NaN</td>\n    </tr>\n    <tr>\n      <th>musical</th>\n      <th>chord</th>\n      <th>producer</th>\n      <th>radio</th>\n      <th>keyboard</th>\n      <th>clarinet</th>\n      <th>ballet</th>\n      <th>harmonica</th>\n      <th>glee</th>\n      <th>instrument</th>\n      <th>production</th>\n      <th>rhythm</th>\n      <th>piano</th>\n      <th>songwriting</th>\n      <th>string</th>\n      <th>song</th>\n      <th>songwriter</th>\n      <th>band</th>\n      <th>banjo</th>\n      <th>artist</th>\n      <th>audience</th>\n      <th>saxophone</th>\n      <th>acoustic</th>\n      <th>gospel</th>\n      <th>quartet</th>\n      <th>auditorium</th>\n      <th>concert</th>\n      <th>turntable</th>\n      <th>medley</th>\n      <th>melody</th>\n      <th>harp</th>\n      <td>NaN</td>\n    </tr>\n  </tbody>\n</table>\n<p>193 rows × 1 columns</p>\n</div>"
     },
     "metadata": {},
     "execution_count": 44
    }
   ],
   "source": [
    "cat"
   ]
  },
  {
   "cell_type": "code",
   "execution_count": null,
   "metadata": {},
   "outputs": [],
   "source": []
  }
 ]
}