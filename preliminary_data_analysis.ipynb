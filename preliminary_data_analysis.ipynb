{
 "metadata": {
  "language_info": {
   "codemirror_mode": {
    "name": "ipython",
    "version": 3
   },
   "file_extension": ".py",
   "mimetype": "text/x-python",
   "name": "python",
   "nbconvert_exporter": "python",
   "pygments_lexer": "ipython3",
   "version": "3.7.6-final"
  },
  "orig_nbformat": 2,
  "kernelspec": {
   "name": "python3",
   "display_name": "Python 3"
  }
 },
 "nbformat": 4,
 "nbformat_minor": 2,
 "cells": [
  {
   "cell_type": "code",
   "execution_count": 2,
   "metadata": {},
   "outputs": [],
   "source": [
    "import pandas as pd"
   ]
  },
  {
   "cell_type": "code",
   "execution_count": 3,
   "metadata": {},
   "outputs": [],
   "source": [
    "df = pd.read_csv(\"suicidewatch.csv\")"
   ]
  },
  {
   "cell_type": "code",
   "execution_count": 4,
   "metadata": {},
   "outputs": [
    {
     "output_type": "execute_result",
     "data": {
      "text/plain": [
       "       Post ID                                             Title  \\\n",
       "0       eib0p4                       I hope this year is my last   \n",
       "1       eib0so                    Good bye all. Try and be happy   \n",
       "2       eib1hu                    I’m taking my life at midnight   \n",
       "3       eib230          I can feel you roll your eyes when I cry   \n",
       "4       eib2u4                          I don’t know where to go   \n",
       "...        ...                                               ...   \n",
       "147511  k7uuix                          What do I do to live????   \n",
       "147512  k7uwzi                           All I see is judgement.   \n",
       "147513  k7v2dl  Trying really hard to find reasons to keep going   \n",
       "147514  k7v2yu   Sleep just Isn't sleep anymore, It's an escape.   \n",
       "147515  k7v3zd               Today I'm happy. Please remember me   \n",
       "\n",
       "                                                      Url  \\\n",
       "0       https://www.reddit.com/r/SuicideWatch/comments...   \n",
       "1       https://www.reddit.com/r/SuicideWatch/comments...   \n",
       "2       https://www.reddit.com/r/SuicideWatch/comments...   \n",
       "3       https://www.reddit.com/r/SuicideWatch/comments...   \n",
       "4       https://www.reddit.com/r/SuicideWatch/comments...   \n",
       "...                                                   ...   \n",
       "147511  https://www.reddit.com/r/SuicideWatch/comments...   \n",
       "147512  https://www.reddit.com/r/SuicideWatch/comments...   \n",
       "147513  https://www.reddit.com/r/SuicideWatch/comments...   \n",
       "147514  https://www.reddit.com/r/SuicideWatch/comments...   \n",
       "147515  https://www.reddit.com/r/SuicideWatch/comments...   \n",
       "\n",
       "                      Author  Score         Publish Date  \\\n",
       "0                    AJSKFAQ      1  2020-01-01 08:01:37   \n",
       "1                 sikpenfold      1  2020-01-01 08:01:50   \n",
       "2            leavingsoon9876      1  2020-01-01 08:03:22   \n",
       "3       i-talk-with-my-hands      1  2020-01-01 08:04:35   \n",
       "4                  BiggusBou      1  2020-01-01 08:06:03   \n",
       "...                      ...    ...                  ...   \n",
       "147511             mjones445      1  2020-12-06 22:39:17   \n",
       "147512     MindRich_DreamBig      1  2020-12-06 22:43:21   \n",
       "147513             Adytza155      1  2020-12-06 22:53:32   \n",
       "147514              mettinjo      1  2020-12-06 22:54:28   \n",
       "147515        _Machine_Girl_      1  2020-12-06 22:56:11   \n",
       "\n",
       "        Total No. of Comments  \\\n",
       "0                           0   \n",
       "1                           4   \n",
       "2                          11   \n",
       "3                           4   \n",
       "4                           5   \n",
       "...                       ...   \n",
       "147511                      1   \n",
       "147512                      6   \n",
       "147513                      2   \n",
       "147514                     23   \n",
       "147515                     11   \n",
       "\n",
       "                                                Permalink Flair  \\\n",
       "0       /r/SuicideWatch/comments/eib0p4/i_hope_this_ye...   NaN   \n",
       "1       /r/SuicideWatch/comments/eib0so/good_bye_all_t...   NaN   \n",
       "2       /r/SuicideWatch/comments/eib1hu/im_taking_my_l...   NaN   \n",
       "3       /r/SuicideWatch/comments/eib230/i_can_feel_you...   NaN   \n",
       "4       /r/SuicideWatch/comments/eib2u4/i_dont_know_wh...   NaN   \n",
       "...                                                   ...   ...   \n",
       "147511  /r/SuicideWatch/comments/k7uuix/what_do_i_do_t...   NaN   \n",
       "147512  /r/SuicideWatch/comments/k7uwzi/all_i_see_is_j...   NaN   \n",
       "147513  /r/SuicideWatch/comments/k7v2dl/trying_really_...   NaN   \n",
       "147514  /r/SuicideWatch/comments/k7v2yu/sleep_just_isn...   NaN   \n",
       "147515  /r/SuicideWatch/comments/k7v3zd/today_im_happy...   NaN   \n",
       "\n",
       "                                                 SelfText  \n",
       "0                              Happy new year nonetheless  \n",
       "1                                                     NaN  \n",
       "2       Tonight is the night and it’s all alright. I a...  \n",
       "3       This is my first post. I’m (F 21) not one to c...  \n",
       "4       I feel like a spectator of my own life at this...  \n",
       "...                                                   ...  \n",
       "147511  What can you do when your brain is putting you...  \n",
       "147512  I hate it. I hate myself. I made some huge mis...  \n",
       "147513  But every day feels like there is less and les...  \n",
       "147514                                                NaN  \n",
       "147515  I'm happy because I resolved to end it in a fe...  \n",
       "\n",
       "[147516 rows x 10 columns]"
      ],
      "text/html": "<div>\n<style scoped>\n    .dataframe tbody tr th:only-of-type {\n        vertical-align: middle;\n    }\n\n    .dataframe tbody tr th {\n        vertical-align: top;\n    }\n\n    .dataframe thead th {\n        text-align: right;\n    }\n</style>\n<table border=\"1\" class=\"dataframe\">\n  <thead>\n    <tr style=\"text-align: right;\">\n      <th></th>\n      <th>Post ID</th>\n      <th>Title</th>\n      <th>Url</th>\n      <th>Author</th>\n      <th>Score</th>\n      <th>Publish Date</th>\n      <th>Total No. of Comments</th>\n      <th>Permalink</th>\n      <th>Flair</th>\n      <th>SelfText</th>\n    </tr>\n  </thead>\n  <tbody>\n    <tr>\n      <th>0</th>\n      <td>eib0p4</td>\n      <td>I hope this year is my last</td>\n      <td>https://www.reddit.com/r/SuicideWatch/comments...</td>\n      <td>AJSKFAQ</td>\n      <td>1</td>\n      <td>2020-01-01 08:01:37</td>\n      <td>0</td>\n      <td>/r/SuicideWatch/comments/eib0p4/i_hope_this_ye...</td>\n      <td>NaN</td>\n      <td>Happy new year nonetheless</td>\n    </tr>\n    <tr>\n      <th>1</th>\n      <td>eib0so</td>\n      <td>Good bye all. Try and be happy</td>\n      <td>https://www.reddit.com/r/SuicideWatch/comments...</td>\n      <td>sikpenfold</td>\n      <td>1</td>\n      <td>2020-01-01 08:01:50</td>\n      <td>4</td>\n      <td>/r/SuicideWatch/comments/eib0so/good_bye_all_t...</td>\n      <td>NaN</td>\n      <td>NaN</td>\n    </tr>\n    <tr>\n      <th>2</th>\n      <td>eib1hu</td>\n      <td>I’m taking my life at midnight</td>\n      <td>https://www.reddit.com/r/SuicideWatch/comments...</td>\n      <td>leavingsoon9876</td>\n      <td>1</td>\n      <td>2020-01-01 08:03:22</td>\n      <td>11</td>\n      <td>/r/SuicideWatch/comments/eib1hu/im_taking_my_l...</td>\n      <td>NaN</td>\n      <td>Tonight is the night and it’s all alright. I a...</td>\n    </tr>\n    <tr>\n      <th>3</th>\n      <td>eib230</td>\n      <td>I can feel you roll your eyes when I cry</td>\n      <td>https://www.reddit.com/r/SuicideWatch/comments...</td>\n      <td>i-talk-with-my-hands</td>\n      <td>1</td>\n      <td>2020-01-01 08:04:35</td>\n      <td>4</td>\n      <td>/r/SuicideWatch/comments/eib230/i_can_feel_you...</td>\n      <td>NaN</td>\n      <td>This is my first post. I’m (F 21) not one to c...</td>\n    </tr>\n    <tr>\n      <th>4</th>\n      <td>eib2u4</td>\n      <td>I don’t know where to go</td>\n      <td>https://www.reddit.com/r/SuicideWatch/comments...</td>\n      <td>BiggusBou</td>\n      <td>1</td>\n      <td>2020-01-01 08:06:03</td>\n      <td>5</td>\n      <td>/r/SuicideWatch/comments/eib2u4/i_dont_know_wh...</td>\n      <td>NaN</td>\n      <td>I feel like a spectator of my own life at this...</td>\n    </tr>\n    <tr>\n      <th>...</th>\n      <td>...</td>\n      <td>...</td>\n      <td>...</td>\n      <td>...</td>\n      <td>...</td>\n      <td>...</td>\n      <td>...</td>\n      <td>...</td>\n      <td>...</td>\n      <td>...</td>\n    </tr>\n    <tr>\n      <th>147511</th>\n      <td>k7uuix</td>\n      <td>What do I do to live????</td>\n      <td>https://www.reddit.com/r/SuicideWatch/comments...</td>\n      <td>mjones445</td>\n      <td>1</td>\n      <td>2020-12-06 22:39:17</td>\n      <td>1</td>\n      <td>/r/SuicideWatch/comments/k7uuix/what_do_i_do_t...</td>\n      <td>NaN</td>\n      <td>What can you do when your brain is putting you...</td>\n    </tr>\n    <tr>\n      <th>147512</th>\n      <td>k7uwzi</td>\n      <td>All I see is judgement.</td>\n      <td>https://www.reddit.com/r/SuicideWatch/comments...</td>\n      <td>MindRich_DreamBig</td>\n      <td>1</td>\n      <td>2020-12-06 22:43:21</td>\n      <td>6</td>\n      <td>/r/SuicideWatch/comments/k7uwzi/all_i_see_is_j...</td>\n      <td>NaN</td>\n      <td>I hate it. I hate myself. I made some huge mis...</td>\n    </tr>\n    <tr>\n      <th>147513</th>\n      <td>k7v2dl</td>\n      <td>Trying really hard to find reasons to keep going</td>\n      <td>https://www.reddit.com/r/SuicideWatch/comments...</td>\n      <td>Adytza155</td>\n      <td>1</td>\n      <td>2020-12-06 22:53:32</td>\n      <td>2</td>\n      <td>/r/SuicideWatch/comments/k7v2dl/trying_really_...</td>\n      <td>NaN</td>\n      <td>But every day feels like there is less and les...</td>\n    </tr>\n    <tr>\n      <th>147514</th>\n      <td>k7v2yu</td>\n      <td>Sleep just Isn't sleep anymore, It's an escape.</td>\n      <td>https://www.reddit.com/r/SuicideWatch/comments...</td>\n      <td>mettinjo</td>\n      <td>1</td>\n      <td>2020-12-06 22:54:28</td>\n      <td>23</td>\n      <td>/r/SuicideWatch/comments/k7v2yu/sleep_just_isn...</td>\n      <td>NaN</td>\n      <td>NaN</td>\n    </tr>\n    <tr>\n      <th>147515</th>\n      <td>k7v3zd</td>\n      <td>Today I'm happy. Please remember me</td>\n      <td>https://www.reddit.com/r/SuicideWatch/comments...</td>\n      <td>_Machine_Girl_</td>\n      <td>1</td>\n      <td>2020-12-06 22:56:11</td>\n      <td>11</td>\n      <td>/r/SuicideWatch/comments/k7v3zd/today_im_happy...</td>\n      <td>NaN</td>\n      <td>I'm happy because I resolved to end it in a fe...</td>\n    </tr>\n  </tbody>\n</table>\n<p>147516 rows × 10 columns</p>\n</div>"
     },
     "metadata": {},
     "execution_count": 4
    }
   ],
   "source": [
    "df"
   ]
  },
  {
   "cell_type": "code",
   "execution_count": 18,
   "metadata": {},
   "outputs": [
    {
     "output_type": "execute_result",
     "data": {
      "text/plain": [
       "Post ID\n",
       "eib0p4    1\n",
       "eib1hu    1\n",
       "eib230    1\n",
       "eib2u4    1\n",
       "eib4uj    1\n",
       "         ..\n",
       "k7ut0r    1\n",
       "k7uuix    1\n",
       "k7uwzi    1\n",
       "k7v2dl    1\n",
       "k7v3zd    1\n",
       "Length: 138351, dtype: int64"
      ]
     },
     "metadata": {},
     "execution_count": 18
    }
   ],
   "source": [
    "df3.pivot_table(index=['Post ID'], aggfunc='size')"
   ]
  },
  {
   "cell_type": "code",
   "execution_count": 6,
   "metadata": {},
   "outputs": [],
   "source": [
    "df2 = df.drop_duplicates()"
   ]
  },
  {
   "cell_type": "code",
   "execution_count": 9,
   "metadata": {},
   "outputs": [
    {
     "output_type": "execute_result",
     "data": {
      "text/plain": [
       "       Post ID                                             Title  \\\n",
       "0       eib0p4                       I hope this year is my last   \n",
       "1       eib0so                    Good bye all. Try and be happy   \n",
       "2       eib1hu                    I’m taking my life at midnight   \n",
       "3       eib230          I can feel you roll your eyes when I cry   \n",
       "4       eib2u4                          I don’t know where to go   \n",
       "...        ...                                               ...   \n",
       "147511  k7uuix                          What do I do to live????   \n",
       "147512  k7uwzi                           All I see is judgement.   \n",
       "147513  k7v2dl  Trying really hard to find reasons to keep going   \n",
       "147514  k7v2yu   Sleep just Isn't sleep anymore, It's an escape.   \n",
       "147515  k7v3zd               Today I'm happy. Please remember me   \n",
       "\n",
       "                                                      Url  \\\n",
       "0       https://www.reddit.com/r/SuicideWatch/comments...   \n",
       "1       https://www.reddit.com/r/SuicideWatch/comments...   \n",
       "2       https://www.reddit.com/r/SuicideWatch/comments...   \n",
       "3       https://www.reddit.com/r/SuicideWatch/comments...   \n",
       "4       https://www.reddit.com/r/SuicideWatch/comments...   \n",
       "...                                                   ...   \n",
       "147511  https://www.reddit.com/r/SuicideWatch/comments...   \n",
       "147512  https://www.reddit.com/r/SuicideWatch/comments...   \n",
       "147513  https://www.reddit.com/r/SuicideWatch/comments...   \n",
       "147514  https://www.reddit.com/r/SuicideWatch/comments...   \n",
       "147515  https://www.reddit.com/r/SuicideWatch/comments...   \n",
       "\n",
       "                      Author  Score         Publish Date  \\\n",
       "0                    AJSKFAQ      1  2020-01-01 08:01:37   \n",
       "1                 sikpenfold      1  2020-01-01 08:01:50   \n",
       "2            leavingsoon9876      1  2020-01-01 08:03:22   \n",
       "3       i-talk-with-my-hands      1  2020-01-01 08:04:35   \n",
       "4                  BiggusBou      1  2020-01-01 08:06:03   \n",
       "...                      ...    ...                  ...   \n",
       "147511             mjones445      1  2020-12-06 22:39:17   \n",
       "147512     MindRich_DreamBig      1  2020-12-06 22:43:21   \n",
       "147513             Adytza155      1  2020-12-06 22:53:32   \n",
       "147514              mettinjo      1  2020-12-06 22:54:28   \n",
       "147515        _Machine_Girl_      1  2020-12-06 22:56:11   \n",
       "\n",
       "        Total No. of Comments  \\\n",
       "0                           0   \n",
       "1                           4   \n",
       "2                          11   \n",
       "3                           4   \n",
       "4                           5   \n",
       "...                       ...   \n",
       "147511                      1   \n",
       "147512                      6   \n",
       "147513                      2   \n",
       "147514                     23   \n",
       "147515                     11   \n",
       "\n",
       "                                                Permalink Flair  \\\n",
       "0       /r/SuicideWatch/comments/eib0p4/i_hope_this_ye...   NaN   \n",
       "1       /r/SuicideWatch/comments/eib0so/good_bye_all_t...   NaN   \n",
       "2       /r/SuicideWatch/comments/eib1hu/im_taking_my_l...   NaN   \n",
       "3       /r/SuicideWatch/comments/eib230/i_can_feel_you...   NaN   \n",
       "4       /r/SuicideWatch/comments/eib2u4/i_dont_know_wh...   NaN   \n",
       "...                                                   ...   ...   \n",
       "147511  /r/SuicideWatch/comments/k7uuix/what_do_i_do_t...   NaN   \n",
       "147512  /r/SuicideWatch/comments/k7uwzi/all_i_see_is_j...   NaN   \n",
       "147513  /r/SuicideWatch/comments/k7v2dl/trying_really_...   NaN   \n",
       "147514  /r/SuicideWatch/comments/k7v2yu/sleep_just_isn...   NaN   \n",
       "147515  /r/SuicideWatch/comments/k7v3zd/today_im_happy...   NaN   \n",
       "\n",
       "                                                 SelfText  \n",
       "0                              Happy new year nonetheless  \n",
       "1                                                     NaN  \n",
       "2       Tonight is the night and it’s all alright. I a...  \n",
       "3       This is my first post. I’m (F 21) not one to c...  \n",
       "4       I feel like a spectator of my own life at this...  \n",
       "...                                                   ...  \n",
       "147511  What can you do when your brain is putting you...  \n",
       "147512  I hate it. I hate myself. I made some huge mis...  \n",
       "147513  But every day feels like there is less and les...  \n",
       "147514                                                NaN  \n",
       "147515  I'm happy because I resolved to end it in a fe...  \n",
       "\n",
       "[147516 rows x 10 columns]"
      ],
      "text/html": "<div>\n<style scoped>\n    .dataframe tbody tr th:only-of-type {\n        vertical-align: middle;\n    }\n\n    .dataframe tbody tr th {\n        vertical-align: top;\n    }\n\n    .dataframe thead th {\n        text-align: right;\n    }\n</style>\n<table border=\"1\" class=\"dataframe\">\n  <thead>\n    <tr style=\"text-align: right;\">\n      <th></th>\n      <th>Post ID</th>\n      <th>Title</th>\n      <th>Url</th>\n      <th>Author</th>\n      <th>Score</th>\n      <th>Publish Date</th>\n      <th>Total No. of Comments</th>\n      <th>Permalink</th>\n      <th>Flair</th>\n      <th>SelfText</th>\n    </tr>\n  </thead>\n  <tbody>\n    <tr>\n      <th>0</th>\n      <td>eib0p4</td>\n      <td>I hope this year is my last</td>\n      <td>https://www.reddit.com/r/SuicideWatch/comments...</td>\n      <td>AJSKFAQ</td>\n      <td>1</td>\n      <td>2020-01-01 08:01:37</td>\n      <td>0</td>\n      <td>/r/SuicideWatch/comments/eib0p4/i_hope_this_ye...</td>\n      <td>NaN</td>\n      <td>Happy new year nonetheless</td>\n    </tr>\n    <tr>\n      <th>1</th>\n      <td>eib0so</td>\n      <td>Good bye all. Try and be happy</td>\n      <td>https://www.reddit.com/r/SuicideWatch/comments...</td>\n      <td>sikpenfold</td>\n      <td>1</td>\n      <td>2020-01-01 08:01:50</td>\n      <td>4</td>\n      <td>/r/SuicideWatch/comments/eib0so/good_bye_all_t...</td>\n      <td>NaN</td>\n      <td>NaN</td>\n    </tr>\n    <tr>\n      <th>2</th>\n      <td>eib1hu</td>\n      <td>I’m taking my life at midnight</td>\n      <td>https://www.reddit.com/r/SuicideWatch/comments...</td>\n      <td>leavingsoon9876</td>\n      <td>1</td>\n      <td>2020-01-01 08:03:22</td>\n      <td>11</td>\n      <td>/r/SuicideWatch/comments/eib1hu/im_taking_my_l...</td>\n      <td>NaN</td>\n      <td>Tonight is the night and it’s all alright. I a...</td>\n    </tr>\n    <tr>\n      <th>3</th>\n      <td>eib230</td>\n      <td>I can feel you roll your eyes when I cry</td>\n      <td>https://www.reddit.com/r/SuicideWatch/comments...</td>\n      <td>i-talk-with-my-hands</td>\n      <td>1</td>\n      <td>2020-01-01 08:04:35</td>\n      <td>4</td>\n      <td>/r/SuicideWatch/comments/eib230/i_can_feel_you...</td>\n      <td>NaN</td>\n      <td>This is my first post. I’m (F 21) not one to c...</td>\n    </tr>\n    <tr>\n      <th>4</th>\n      <td>eib2u4</td>\n      <td>I don’t know where to go</td>\n      <td>https://www.reddit.com/r/SuicideWatch/comments...</td>\n      <td>BiggusBou</td>\n      <td>1</td>\n      <td>2020-01-01 08:06:03</td>\n      <td>5</td>\n      <td>/r/SuicideWatch/comments/eib2u4/i_dont_know_wh...</td>\n      <td>NaN</td>\n      <td>I feel like a spectator of my own life at this...</td>\n    </tr>\n    <tr>\n      <th>...</th>\n      <td>...</td>\n      <td>...</td>\n      <td>...</td>\n      <td>...</td>\n      <td>...</td>\n      <td>...</td>\n      <td>...</td>\n      <td>...</td>\n      <td>...</td>\n      <td>...</td>\n    </tr>\n    <tr>\n      <th>147511</th>\n      <td>k7uuix</td>\n      <td>What do I do to live????</td>\n      <td>https://www.reddit.com/r/SuicideWatch/comments...</td>\n      <td>mjones445</td>\n      <td>1</td>\n      <td>2020-12-06 22:39:17</td>\n      <td>1</td>\n      <td>/r/SuicideWatch/comments/k7uuix/what_do_i_do_t...</td>\n      <td>NaN</td>\n      <td>What can you do when your brain is putting you...</td>\n    </tr>\n    <tr>\n      <th>147512</th>\n      <td>k7uwzi</td>\n      <td>All I see is judgement.</td>\n      <td>https://www.reddit.com/r/SuicideWatch/comments...</td>\n      <td>MindRich_DreamBig</td>\n      <td>1</td>\n      <td>2020-12-06 22:43:21</td>\n      <td>6</td>\n      <td>/r/SuicideWatch/comments/k7uwzi/all_i_see_is_j...</td>\n      <td>NaN</td>\n      <td>I hate it. I hate myself. I made some huge mis...</td>\n    </tr>\n    <tr>\n      <th>147513</th>\n      <td>k7v2dl</td>\n      <td>Trying really hard to find reasons to keep going</td>\n      <td>https://www.reddit.com/r/SuicideWatch/comments...</td>\n      <td>Adytza155</td>\n      <td>1</td>\n      <td>2020-12-06 22:53:32</td>\n      <td>2</td>\n      <td>/r/SuicideWatch/comments/k7v2dl/trying_really_...</td>\n      <td>NaN</td>\n      <td>But every day feels like there is less and les...</td>\n    </tr>\n    <tr>\n      <th>147514</th>\n      <td>k7v2yu</td>\n      <td>Sleep just Isn't sleep anymore, It's an escape.</td>\n      <td>https://www.reddit.com/r/SuicideWatch/comments...</td>\n      <td>mettinjo</td>\n      <td>1</td>\n      <td>2020-12-06 22:54:28</td>\n      <td>23</td>\n      <td>/r/SuicideWatch/comments/k7v2yu/sleep_just_isn...</td>\n      <td>NaN</td>\n      <td>NaN</td>\n    </tr>\n    <tr>\n      <th>147515</th>\n      <td>k7v3zd</td>\n      <td>Today I'm happy. Please remember me</td>\n      <td>https://www.reddit.com/r/SuicideWatch/comments...</td>\n      <td>_Machine_Girl_</td>\n      <td>1</td>\n      <td>2020-12-06 22:56:11</td>\n      <td>11</td>\n      <td>/r/SuicideWatch/comments/k7v3zd/today_im_happy...</td>\n      <td>NaN</td>\n      <td>I'm happy because I resolved to end it in a fe...</td>\n    </tr>\n  </tbody>\n</table>\n<p>147516 rows × 10 columns</p>\n</div>"
     },
     "metadata": {},
     "execution_count": 9
    }
   ],
   "source": [
    "df2"
   ]
  },
  {
   "cell_type": "code",
   "execution_count": 12,
   "metadata": {},
   "outputs": [],
   "source": [
    "df3 = df2.dropna(subset=['SelfText'])"
   ]
  },
  {
   "cell_type": "code",
   "execution_count": 13,
   "metadata": {},
   "outputs": [
    {
     "output_type": "execute_result",
     "data": {
      "text/plain": [
       "       Post ID                                             Title  \\\n",
       "0       eib0p4                       I hope this year is my last   \n",
       "2       eib1hu                    I’m taking my life at midnight   \n",
       "3       eib230          I can feel you roll your eyes when I cry   \n",
       "4       eib2u4                          I don’t know where to go   \n",
       "6       eib4uj      Please try and seek help if you're depressed   \n",
       "...        ...                                               ...   \n",
       "147510  k7ut0r                I'm too scared to be alive anymore   \n",
       "147511  k7uuix                          What do I do to live????   \n",
       "147512  k7uwzi                           All I see is judgement.   \n",
       "147513  k7v2dl  Trying really hard to find reasons to keep going   \n",
       "147515  k7v3zd               Today I'm happy. Please remember me   \n",
       "\n",
       "                                                      Url  \\\n",
       "0       https://www.reddit.com/r/SuicideWatch/comments...   \n",
       "2       https://www.reddit.com/r/SuicideWatch/comments...   \n",
       "3       https://www.reddit.com/r/SuicideWatch/comments...   \n",
       "4       https://www.reddit.com/r/SuicideWatch/comments...   \n",
       "6       https://www.reddit.com/r/SuicideWatch/comments...   \n",
       "...                                                   ...   \n",
       "147510  https://www.reddit.com/r/SuicideWatch/comments...   \n",
       "147511  https://www.reddit.com/r/SuicideWatch/comments...   \n",
       "147512  https://www.reddit.com/r/SuicideWatch/comments...   \n",
       "147513  https://www.reddit.com/r/SuicideWatch/comments...   \n",
       "147515  https://www.reddit.com/r/SuicideWatch/comments...   \n",
       "\n",
       "                      Author  Score         Publish Date  \\\n",
       "0                    AJSKFAQ      1  2020-01-01 08:01:37   \n",
       "2            leavingsoon9876      1  2020-01-01 08:03:22   \n",
       "3       i-talk-with-my-hands      1  2020-01-01 08:04:35   \n",
       "4                  BiggusBou      1  2020-01-01 08:06:03   \n",
       "6                 oxygenfire      1  2020-01-01 08:10:20   \n",
       "...                      ...    ...                  ...   \n",
       "147510                 Suzaj      1  2020-12-06 22:36:32   \n",
       "147511             mjones445      1  2020-12-06 22:39:17   \n",
       "147512     MindRich_DreamBig      1  2020-12-06 22:43:21   \n",
       "147513             Adytza155      1  2020-12-06 22:53:32   \n",
       "147515        _Machine_Girl_      1  2020-12-06 22:56:11   \n",
       "\n",
       "        Total No. of Comments  \\\n",
       "0                           0   \n",
       "2                          11   \n",
       "3                           4   \n",
       "4                           5   \n",
       "6                           4   \n",
       "...                       ...   \n",
       "147510                      1   \n",
       "147511                      1   \n",
       "147512                      6   \n",
       "147513                      2   \n",
       "147515                     11   \n",
       "\n",
       "                                                Permalink Flair  \\\n",
       "0       /r/SuicideWatch/comments/eib0p4/i_hope_this_ye...   NaN   \n",
       "2       /r/SuicideWatch/comments/eib1hu/im_taking_my_l...   NaN   \n",
       "3       /r/SuicideWatch/comments/eib230/i_can_feel_you...   NaN   \n",
       "4       /r/SuicideWatch/comments/eib2u4/i_dont_know_wh...   NaN   \n",
       "6       /r/SuicideWatch/comments/eib4uj/please_try_and...   NaN   \n",
       "...                                                   ...   ...   \n",
       "147510  /r/SuicideWatch/comments/k7ut0r/im_too_scared_...   NaN   \n",
       "147511  /r/SuicideWatch/comments/k7uuix/what_do_i_do_t...   NaN   \n",
       "147512  /r/SuicideWatch/comments/k7uwzi/all_i_see_is_j...   NaN   \n",
       "147513  /r/SuicideWatch/comments/k7v2dl/trying_really_...   NaN   \n",
       "147515  /r/SuicideWatch/comments/k7v3zd/today_im_happy...   NaN   \n",
       "\n",
       "                                                 SelfText  \n",
       "0                              Happy new year nonetheless  \n",
       "2       Tonight is the night and it’s all alright. I a...  \n",
       "3       This is my first post. I’m (F 21) not one to c...  \n",
       "4       I feel like a spectator of my own life at this...  \n",
       "6       Every single post here seems to be negative. W...  \n",
       "...                                                   ...  \n",
       "147510     But at the same time I'm terrified to end this  \n",
       "147511  What can you do when your brain is putting you...  \n",
       "147512  I hate it. I hate myself. I made some huge mis...  \n",
       "147513  But every day feels like there is less and les...  \n",
       "147515  I'm happy because I resolved to end it in a fe...  \n",
       "\n",
       "[138351 rows x 10 columns]"
      ],
      "text/html": "<div>\n<style scoped>\n    .dataframe tbody tr th:only-of-type {\n        vertical-align: middle;\n    }\n\n    .dataframe tbody tr th {\n        vertical-align: top;\n    }\n\n    .dataframe thead th {\n        text-align: right;\n    }\n</style>\n<table border=\"1\" class=\"dataframe\">\n  <thead>\n    <tr style=\"text-align: right;\">\n      <th></th>\n      <th>Post ID</th>\n      <th>Title</th>\n      <th>Url</th>\n      <th>Author</th>\n      <th>Score</th>\n      <th>Publish Date</th>\n      <th>Total No. of Comments</th>\n      <th>Permalink</th>\n      <th>Flair</th>\n      <th>SelfText</th>\n    </tr>\n  </thead>\n  <tbody>\n    <tr>\n      <th>0</th>\n      <td>eib0p4</td>\n      <td>I hope this year is my last</td>\n      <td>https://www.reddit.com/r/SuicideWatch/comments...</td>\n      <td>AJSKFAQ</td>\n      <td>1</td>\n      <td>2020-01-01 08:01:37</td>\n      <td>0</td>\n      <td>/r/SuicideWatch/comments/eib0p4/i_hope_this_ye...</td>\n      <td>NaN</td>\n      <td>Happy new year nonetheless</td>\n    </tr>\n    <tr>\n      <th>2</th>\n      <td>eib1hu</td>\n      <td>I’m taking my life at midnight</td>\n      <td>https://www.reddit.com/r/SuicideWatch/comments...</td>\n      <td>leavingsoon9876</td>\n      <td>1</td>\n      <td>2020-01-01 08:03:22</td>\n      <td>11</td>\n      <td>/r/SuicideWatch/comments/eib1hu/im_taking_my_l...</td>\n      <td>NaN</td>\n      <td>Tonight is the night and it’s all alright. I a...</td>\n    </tr>\n    <tr>\n      <th>3</th>\n      <td>eib230</td>\n      <td>I can feel you roll your eyes when I cry</td>\n      <td>https://www.reddit.com/r/SuicideWatch/comments...</td>\n      <td>i-talk-with-my-hands</td>\n      <td>1</td>\n      <td>2020-01-01 08:04:35</td>\n      <td>4</td>\n      <td>/r/SuicideWatch/comments/eib230/i_can_feel_you...</td>\n      <td>NaN</td>\n      <td>This is my first post. I’m (F 21) not one to c...</td>\n    </tr>\n    <tr>\n      <th>4</th>\n      <td>eib2u4</td>\n      <td>I don’t know where to go</td>\n      <td>https://www.reddit.com/r/SuicideWatch/comments...</td>\n      <td>BiggusBou</td>\n      <td>1</td>\n      <td>2020-01-01 08:06:03</td>\n      <td>5</td>\n      <td>/r/SuicideWatch/comments/eib2u4/i_dont_know_wh...</td>\n      <td>NaN</td>\n      <td>I feel like a spectator of my own life at this...</td>\n    </tr>\n    <tr>\n      <th>6</th>\n      <td>eib4uj</td>\n      <td>Please try and seek help if you're depressed</td>\n      <td>https://www.reddit.com/r/SuicideWatch/comments...</td>\n      <td>oxygenfire</td>\n      <td>1</td>\n      <td>2020-01-01 08:10:20</td>\n      <td>4</td>\n      <td>/r/SuicideWatch/comments/eib4uj/please_try_and...</td>\n      <td>NaN</td>\n      <td>Every single post here seems to be negative. W...</td>\n    </tr>\n    <tr>\n      <th>...</th>\n      <td>...</td>\n      <td>...</td>\n      <td>...</td>\n      <td>...</td>\n      <td>...</td>\n      <td>...</td>\n      <td>...</td>\n      <td>...</td>\n      <td>...</td>\n      <td>...</td>\n    </tr>\n    <tr>\n      <th>147510</th>\n      <td>k7ut0r</td>\n      <td>I'm too scared to be alive anymore</td>\n      <td>https://www.reddit.com/r/SuicideWatch/comments...</td>\n      <td>Suzaj</td>\n      <td>1</td>\n      <td>2020-12-06 22:36:32</td>\n      <td>1</td>\n      <td>/r/SuicideWatch/comments/k7ut0r/im_too_scared_...</td>\n      <td>NaN</td>\n      <td>But at the same time I'm terrified to end this</td>\n    </tr>\n    <tr>\n      <th>147511</th>\n      <td>k7uuix</td>\n      <td>What do I do to live????</td>\n      <td>https://www.reddit.com/r/SuicideWatch/comments...</td>\n      <td>mjones445</td>\n      <td>1</td>\n      <td>2020-12-06 22:39:17</td>\n      <td>1</td>\n      <td>/r/SuicideWatch/comments/k7uuix/what_do_i_do_t...</td>\n      <td>NaN</td>\n      <td>What can you do when your brain is putting you...</td>\n    </tr>\n    <tr>\n      <th>147512</th>\n      <td>k7uwzi</td>\n      <td>All I see is judgement.</td>\n      <td>https://www.reddit.com/r/SuicideWatch/comments...</td>\n      <td>MindRich_DreamBig</td>\n      <td>1</td>\n      <td>2020-12-06 22:43:21</td>\n      <td>6</td>\n      <td>/r/SuicideWatch/comments/k7uwzi/all_i_see_is_j...</td>\n      <td>NaN</td>\n      <td>I hate it. I hate myself. I made some huge mis...</td>\n    </tr>\n    <tr>\n      <th>147513</th>\n      <td>k7v2dl</td>\n      <td>Trying really hard to find reasons to keep going</td>\n      <td>https://www.reddit.com/r/SuicideWatch/comments...</td>\n      <td>Adytza155</td>\n      <td>1</td>\n      <td>2020-12-06 22:53:32</td>\n      <td>2</td>\n      <td>/r/SuicideWatch/comments/k7v2dl/trying_really_...</td>\n      <td>NaN</td>\n      <td>But every day feels like there is less and les...</td>\n    </tr>\n    <tr>\n      <th>147515</th>\n      <td>k7v3zd</td>\n      <td>Today I'm happy. Please remember me</td>\n      <td>https://www.reddit.com/r/SuicideWatch/comments...</td>\n      <td>_Machine_Girl_</td>\n      <td>1</td>\n      <td>2020-12-06 22:56:11</td>\n      <td>11</td>\n      <td>/r/SuicideWatch/comments/k7v3zd/today_im_happy...</td>\n      <td>NaN</td>\n      <td>I'm happy because I resolved to end it in a fe...</td>\n    </tr>\n  </tbody>\n</table>\n<p>138351 rows × 10 columns</p>\n</div>"
     },
     "metadata": {},
     "execution_count": 13
    }
   ],
   "source": [
    "df3"
   ]
  },
  {
   "cell_type": "code",
   "execution_count": 16,
   "metadata": {},
   "outputs": [
    {
     "output_type": "stream",
     "name": "stdout",
     "text": [
      "<class 'pandas.core.frame.DataFrame'>\nInt64Index: 138351 entries, 0 to 147515\nData columns (total 10 columns):\n #   Column                 Non-Null Count   Dtype \n---  ------                 --------------   ----- \n 0   Post ID                138351 non-null  object\n 1   Title                  138349 non-null  object\n 2   Url                    138351 non-null  object\n 3   Author                 138351 non-null  object\n 4   Score                  138351 non-null  int64 \n 5   Publish Date           138351 non-null  object\n 6   Total No. of Comments  138351 non-null  int64 \n 7   Permalink              138351 non-null  object\n 8   Flair                  2 non-null       object\n 9   SelfText               138351 non-null  object\ndtypes: int64(2), object(8)\nmemory usage: 16.6+ MB\n"
     ]
    }
   ],
   "source": [
    "df3.info()"
   ]
  },
  {
   "cell_type": "code",
   "execution_count": null,
   "metadata": {},
   "outputs": [],
   "source": []
  }
 ]
}