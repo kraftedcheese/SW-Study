{
 "metadata": {
  "language_info": {
   "codemirror_mode": {
    "name": "ipython",
    "version": 3
   },
   "file_extension": ".py",
   "mimetype": "text/x-python",
   "name": "python",
   "nbconvert_exporter": "python",
   "pygments_lexer": "ipython3",
   "version": "3.7.6-final"
  },
  "orig_nbformat": 2,
  "kernelspec": {
   "name": "python3",
   "display_name": "Python 3"
  }
 },
 "nbformat": 4,
 "nbformat_minor": 2,
 "cells": [
  {
   "cell_type": "code",
   "execution_count": 2,
   "metadata": {},
   "outputs": [],
   "source": [
    "import pandas as pd"
   ]
  },
  {
   "cell_type": "code",
   "execution_count": 3,
   "metadata": {},
   "outputs": [],
   "source": [
    "df = pd.read_csv(\"suicidewatch_2010.csv\")"
   ]
  },
  {
   "cell_type": "code",
   "execution_count": 4,
   "metadata": {},
   "outputs": [
    {
     "output_type": "execute_result",
     "data": {
      "text/plain": [
       "     Post ID                                              Title  \\\n",
       "0      akeu0   Self-reflecting consciousness considered harmful   \n",
       "1      akfmv  Hey, SW. Here's my final song of the day for 2...   \n",
       "2      akfu7           Uplifting song to start off the new year   \n",
       "3      akigg  I wrote a pleasant three page note, a poem, ha...   \n",
       "4      akk5y  Well I just had the worst night ever, so here'...   \n",
       "...      ...                                                ...   \n",
       "3275   eua61  Behaved badly over breaking up with girlfriend...   \n",
       "3276   eubu0                               I want to say thanks   \n",
       "3277   euc6a               I have no more will to live it seems   \n",
       "3278   eucqh                                              Hello   \n",
       "3279   eud2n                      I feel so fucked all the time   \n",
       "\n",
       "                                                    Url     Author  Score  \\\n",
       "0     https://www.reddit.com/r/SuicideWatch/comments...  [deleted]     15   \n",
       "1            http://www.youtube.com/watch?v=xfq_A8nXMsQ    MegaRon     11   \n",
       "2     https://www.reddit.com/r/SuicideWatch/comments...  [deleted]      9   \n",
       "3     https://www.reddit.com/r/SuicideWatch/comments...  [deleted]      1   \n",
       "4     https://www.reddit.com/r/SuicideWatch/comments...  [deleted]     22   \n",
       "...                                                 ...        ...    ...   \n",
       "3275  https://www.reddit.com/r/SuicideWatch/comments...  [deleted]      3   \n",
       "3276  https://www.reddit.com/r/SuicideWatch/comments...  [deleted]     20   \n",
       "3277  https://www.reddit.com/r/SuicideWatch/comments...  [deleted]      4   \n",
       "3278  https://www.reddit.com/r/SuicideWatch/comments...  [deleted]      1   \n",
       "3279  https://www.reddit.com/r/SuicideWatch/comments...  skinblues      3   \n",
       "\n",
       "             Publish Date  Total No. of Comments  \\\n",
       "0     2010-01-01 02:01:02                      4   \n",
       "1     2010-01-01 04:49:19                      2   \n",
       "2     2010-01-01 05:25:21                      0   \n",
       "3     2010-01-01 13:34:16                      0   \n",
       "4     2010-01-01 17:37:57                     11   \n",
       "...                   ...                    ...   \n",
       "3275  2010-12-31 19:45:28                      1   \n",
       "3276  2010-12-31 22:01:16                      5   \n",
       "3277  2010-12-31 22:31:07                     10   \n",
       "3278  2010-12-31 23:22:26                      6   \n",
       "3279  2010-12-31 23:52:05                      7   \n",
       "\n",
       "                                              Permalink  Flair  \\\n",
       "0     /r/SuicideWatch/comments/akeu0/selfreflecting_...    NaN   \n",
       "1     /r/SuicideWatch/comments/akfmv/hey_sw_heres_my...    NaN   \n",
       "2     /r/SuicideWatch/comments/akfu7/uplifting_song_...    NaN   \n",
       "3     /r/SuicideWatch/comments/akigg/i_wrote_a_pleas...    NaN   \n",
       "4     /r/SuicideWatch/comments/akk5y/well_i_just_had...    NaN   \n",
       "...                                                 ...    ...   \n",
       "3275  /r/SuicideWatch/comments/eua61/behaved_badly_o...    NaN   \n",
       "3276  /r/SuicideWatch/comments/eubu0/i_want_to_say_t...    NaN   \n",
       "3277  /r/SuicideWatch/comments/euc6a/i_have_no_more_...    NaN   \n",
       "3278              /r/SuicideWatch/comments/eucqh/hello/    NaN   \n",
       "3279  /r/SuicideWatch/comments/eud2n/i_feel_so_fucke...    NaN   \n",
       "\n",
       "                                               SelfText  \n",
       "0                                             [deleted]  \n",
       "1                                                   NaN  \n",
       "2                                             [deleted]  \n",
       "3                                             [deleted]  \n",
       "4                                             [deleted]  \n",
       "...                                                 ...  \n",
       "3275                                          [deleted]  \n",
       "3276  I am just saying thank you to the people who r...  \n",
       "3277                                          [deleted]  \n",
       "3278                                          [deleted]  \n",
       "3279  Hello, it has been 2011 here for almost 2 hour...  \n",
       "\n",
       "[3280 rows x 10 columns]"
      ],
      "text/html": "<div>\n<style scoped>\n    .dataframe tbody tr th:only-of-type {\n        vertical-align: middle;\n    }\n\n    .dataframe tbody tr th {\n        vertical-align: top;\n    }\n\n    .dataframe thead th {\n        text-align: right;\n    }\n</style>\n<table border=\"1\" class=\"dataframe\">\n  <thead>\n    <tr style=\"text-align: right;\">\n      <th></th>\n      <th>Post ID</th>\n      <th>Title</th>\n      <th>Url</th>\n      <th>Author</th>\n      <th>Score</th>\n      <th>Publish Date</th>\n      <th>Total No. of Comments</th>\n      <th>Permalink</th>\n      <th>Flair</th>\n      <th>SelfText</th>\n    </tr>\n  </thead>\n  <tbody>\n    <tr>\n      <th>0</th>\n      <td>akeu0</td>\n      <td>Self-reflecting consciousness considered harmful</td>\n      <td>https://www.reddit.com/r/SuicideWatch/comments...</td>\n      <td>[deleted]</td>\n      <td>15</td>\n      <td>2010-01-01 02:01:02</td>\n      <td>4</td>\n      <td>/r/SuicideWatch/comments/akeu0/selfreflecting_...</td>\n      <td>NaN</td>\n      <td>[deleted]</td>\n    </tr>\n    <tr>\n      <th>1</th>\n      <td>akfmv</td>\n      <td>Hey, SW. Here's my final song of the day for 2...</td>\n      <td>http://www.youtube.com/watch?v=xfq_A8nXMsQ</td>\n      <td>MegaRon</td>\n      <td>11</td>\n      <td>2010-01-01 04:49:19</td>\n      <td>2</td>\n      <td>/r/SuicideWatch/comments/akfmv/hey_sw_heres_my...</td>\n      <td>NaN</td>\n      <td>NaN</td>\n    </tr>\n    <tr>\n      <th>2</th>\n      <td>akfu7</td>\n      <td>Uplifting song to start off the new year</td>\n      <td>https://www.reddit.com/r/SuicideWatch/comments...</td>\n      <td>[deleted]</td>\n      <td>9</td>\n      <td>2010-01-01 05:25:21</td>\n      <td>0</td>\n      <td>/r/SuicideWatch/comments/akfu7/uplifting_song_...</td>\n      <td>NaN</td>\n      <td>[deleted]</td>\n    </tr>\n    <tr>\n      <th>3</th>\n      <td>akigg</td>\n      <td>I wrote a pleasant three page note, a poem, ha...</td>\n      <td>https://www.reddit.com/r/SuicideWatch/comments...</td>\n      <td>[deleted]</td>\n      <td>1</td>\n      <td>2010-01-01 13:34:16</td>\n      <td>0</td>\n      <td>/r/SuicideWatch/comments/akigg/i_wrote_a_pleas...</td>\n      <td>NaN</td>\n      <td>[deleted]</td>\n    </tr>\n    <tr>\n      <th>4</th>\n      <td>akk5y</td>\n      <td>Well I just had the worst night ever, so here'...</td>\n      <td>https://www.reddit.com/r/SuicideWatch/comments...</td>\n      <td>[deleted]</td>\n      <td>22</td>\n      <td>2010-01-01 17:37:57</td>\n      <td>11</td>\n      <td>/r/SuicideWatch/comments/akk5y/well_i_just_had...</td>\n      <td>NaN</td>\n      <td>[deleted]</td>\n    </tr>\n    <tr>\n      <th>...</th>\n      <td>...</td>\n      <td>...</td>\n      <td>...</td>\n      <td>...</td>\n      <td>...</td>\n      <td>...</td>\n      <td>...</td>\n      <td>...</td>\n      <td>...</td>\n      <td>...</td>\n    </tr>\n    <tr>\n      <th>3275</th>\n      <td>eua61</td>\n      <td>Behaved badly over breaking up with girlfriend...</td>\n      <td>https://www.reddit.com/r/SuicideWatch/comments...</td>\n      <td>[deleted]</td>\n      <td>3</td>\n      <td>2010-12-31 19:45:28</td>\n      <td>1</td>\n      <td>/r/SuicideWatch/comments/eua61/behaved_badly_o...</td>\n      <td>NaN</td>\n      <td>[deleted]</td>\n    </tr>\n    <tr>\n      <th>3276</th>\n      <td>eubu0</td>\n      <td>I want to say thanks</td>\n      <td>https://www.reddit.com/r/SuicideWatch/comments...</td>\n      <td>[deleted]</td>\n      <td>20</td>\n      <td>2010-12-31 22:01:16</td>\n      <td>5</td>\n      <td>/r/SuicideWatch/comments/eubu0/i_want_to_say_t...</td>\n      <td>NaN</td>\n      <td>I am just saying thank you to the people who r...</td>\n    </tr>\n    <tr>\n      <th>3277</th>\n      <td>euc6a</td>\n      <td>I have no more will to live it seems</td>\n      <td>https://www.reddit.com/r/SuicideWatch/comments...</td>\n      <td>[deleted]</td>\n      <td>4</td>\n      <td>2010-12-31 22:31:07</td>\n      <td>10</td>\n      <td>/r/SuicideWatch/comments/euc6a/i_have_no_more_...</td>\n      <td>NaN</td>\n      <td>[deleted]</td>\n    </tr>\n    <tr>\n      <th>3278</th>\n      <td>eucqh</td>\n      <td>Hello</td>\n      <td>https://www.reddit.com/r/SuicideWatch/comments...</td>\n      <td>[deleted]</td>\n      <td>1</td>\n      <td>2010-12-31 23:22:26</td>\n      <td>6</td>\n      <td>/r/SuicideWatch/comments/eucqh/hello/</td>\n      <td>NaN</td>\n      <td>[deleted]</td>\n    </tr>\n    <tr>\n      <th>3279</th>\n      <td>eud2n</td>\n      <td>I feel so fucked all the time</td>\n      <td>https://www.reddit.com/r/SuicideWatch/comments...</td>\n      <td>skinblues</td>\n      <td>3</td>\n      <td>2010-12-31 23:52:05</td>\n      <td>7</td>\n      <td>/r/SuicideWatch/comments/eud2n/i_feel_so_fucke...</td>\n      <td>NaN</td>\n      <td>Hello, it has been 2011 here for almost 2 hour...</td>\n    </tr>\n  </tbody>\n</table>\n<p>3280 rows × 10 columns</p>\n</div>"
     },
     "metadata": {},
     "execution_count": 4
    }
   ],
   "source": [
    "df"
   ]
  },
  {
   "cell_type": "code",
   "execution_count": 5,
   "metadata": {},
   "outputs": [
    {
     "output_type": "stream",
     "name": "stdout",
     "text": [
      "<class 'pandas.core.frame.DataFrame'>\nRangeIndex: 3280 entries, 0 to 3279\nData columns (total 10 columns):\n #   Column                 Non-Null Count  Dtype  \n---  ------                 --------------  -----  \n 0   Post ID                3280 non-null   object \n 1   Title                  3280 non-null   object \n 2   Url                    3280 non-null   object \n 3   Author                 3280 non-null   object \n 4   Score                  3280 non-null   int64  \n 5   Publish Date           3280 non-null   object \n 6   Total No. of Comments  3280 non-null   int64  \n 7   Permalink              3280 non-null   object \n 8   Flair                  0 non-null      float64\n 9   SelfText               2933 non-null   object \ndtypes: float64(1), int64(2), object(7)\nmemory usage: 256.4+ KB\n"
     ]
    }
   ],
   "source": [
    "df.info()"
   ]
  },
  {
   "cell_type": "code",
   "execution_count": 6,
   "metadata": {},
   "outputs": [
    {
     "output_type": "stream",
     "name": "stdout",
     "text": [
      "<class 'pandas.core.frame.DataFrame'>\nInt64Index: 1979 entries, 6 to 3279\nData columns (total 10 columns):\n #   Column                 Non-Null Count  Dtype  \n---  ------                 --------------  -----  \n 0   Post ID                1979 non-null   object \n 1   Title                  1979 non-null   object \n 2   Url                    1979 non-null   object \n 3   Author                 1979 non-null   object \n 4   Score                  1979 non-null   int64  \n 5   Publish Date           1979 non-null   object \n 6   Total No. of Comments  1979 non-null   int64  \n 7   Permalink              1979 non-null   object \n 8   Flair                  0 non-null      float64\n 9   SelfText               1979 non-null   object \ndtypes: float64(1), int64(2), object(7)\nmemory usage: 170.1+ KB\n"
     ]
    }
   ],
   "source": [
    "def dataclean(data):\n",
    "    d = data.drop_duplicates()\n",
    "    d.dropna(subset=['SelfText'], inplace = True)\n",
    "    d = d[d.SelfText != \"[deleted]\"]\n",
    "    return d\n",
    "\n",
    "d_2 = dataclean(df)\n",
    "d_2.info()"
   ]
  },
  {
   "cell_type": "code",
   "execution_count": 7,
   "metadata": {},
   "outputs": [
    {
     "output_type": "execute_result",
     "data": {
      "text/plain": [
       "     Post ID                                              Title  \\\n",
       "6      ako2j  Follow up to a previous post in here - Here's ...   \n",
       "7      akpyw  You don't have to kill yourself to commit suic...   \n",
       "8      akruk                           Today is not a good day.   \n",
       "11     akyn1  What are some good drugs for depression? socia...   \n",
       "13     al567      I don't know why I'm going to North Carolina.   \n",
       "...      ...                                                ...   \n",
       "3271   eu70f                               2011 Resolutions /sw   \n",
       "3272   eu75m     How to broach the subject with friends/family?   \n",
       "3274   eu9ha             Thank you all - UPDATE: Friend in need   \n",
       "3276   eubu0                               I want to say thanks   \n",
       "3279   eud2n                      I feel so fucked all the time   \n",
       "\n",
       "                                                    Url          Author  \\\n",
       "6     https://www.reddit.com/r/SuicideWatch/comments...     Cataclismic   \n",
       "7     https://www.reddit.com/r/SuicideWatch/comments...       [deleted]   \n",
       "8     https://www.reddit.com/r/SuicideWatch/comments...           jaldl   \n",
       "11    https://www.reddit.com/r/SuicideWatch/comments...       [deleted]   \n",
       "13    https://www.reddit.com/r/SuicideWatch/comments...  RiseAgainst378   \n",
       "...                                                 ...             ...   \n",
       "3271  https://www.reddit.com/r/SuicideWatch/comments...       [deleted]   \n",
       "3272  https://www.reddit.com/r/SuicideWatch/comments...    dennis_brown   \n",
       "3274  https://www.reddit.com/r/SuicideWatch/comments...       bored-now   \n",
       "3276  https://www.reddit.com/r/SuicideWatch/comments...       [deleted]   \n",
       "3279  https://www.reddit.com/r/SuicideWatch/comments...       skinblues   \n",
       "\n",
       "      Score         Publish Date  Total No. of Comments  \\\n",
       "6        13  2010-01-02 03:19:06                      3   \n",
       "7        18  2010-01-02 07:54:48                      3   \n",
       "8        22  2010-01-02 12:55:09                      7   \n",
       "11       20  2010-01-03 04:09:35                     17   \n",
       "13       10  2010-01-03 20:57:29                     23   \n",
       "...     ...                  ...                    ...   \n",
       "3271      3  2010-12-31 15:55:15                      7   \n",
       "3272      1  2010-12-31 16:07:43                      7   \n",
       "3274      5  2010-12-31 18:55:09                      2   \n",
       "3276     20  2010-12-31 22:01:16                      5   \n",
       "3279      3  2010-12-31 23:52:05                      7   \n",
       "\n",
       "                                              Permalink  Flair  \\\n",
       "6     /r/SuicideWatch/comments/ako2j/follow_up_to_a_...    NaN   \n",
       "7     /r/SuicideWatch/comments/akpyw/you_dont_have_t...    NaN   \n",
       "8     /r/SuicideWatch/comments/akruk/today_is_not_a_...    NaN   \n",
       "11    /r/SuicideWatch/comments/akyn1/what_are_some_g...    NaN   \n",
       "13    /r/SuicideWatch/comments/al567/i_dont_know_why...    NaN   \n",
       "...                                                 ...    ...   \n",
       "3271  /r/SuicideWatch/comments/eu70f/2011_resolution...    NaN   \n",
       "3272  /r/SuicideWatch/comments/eu75m/how_to_broach_t...    NaN   \n",
       "3274  /r/SuicideWatch/comments/eu9ha/thank_you_all_u...    NaN   \n",
       "3276  /r/SuicideWatch/comments/eubu0/i_want_to_say_t...    NaN   \n",
       "3279  /r/SuicideWatch/comments/eud2n/i_feel_so_fucke...    NaN   \n",
       "\n",
       "                                               SelfText  \n",
       "6     First off, the first post http://www.reddit.co...  \n",
       "7     I don't see myself actually putting an end to ...  \n",
       "8     Here is my story.\\n\\nI was born to rather quai...  \n",
       "11    I used to be on zoloft for about a year. Truth...  \n",
       "13    I've always wanted to just take a trip and get...  \n",
       "...                                                 ...  \n",
       "3271  for 2010:\\n\\ni didn't kill myself\\n\\ndidn't ge...  \n",
       "3272  After finding SW earlier this morning, and hav...  \n",
       "3274  [Original post, here](http://www.reddit.com/r/...  \n",
       "3276  I am just saying thank you to the people who r...  \n",
       "3279  Hello, it has been 2011 here for almost 2 hour...  \n",
       "\n",
       "[1979 rows x 10 columns]"
      ],
      "text/html": "<div>\n<style scoped>\n    .dataframe tbody tr th:only-of-type {\n        vertical-align: middle;\n    }\n\n    .dataframe tbody tr th {\n        vertical-align: top;\n    }\n\n    .dataframe thead th {\n        text-align: right;\n    }\n</style>\n<table border=\"1\" class=\"dataframe\">\n  <thead>\n    <tr style=\"text-align: right;\">\n      <th></th>\n      <th>Post ID</th>\n      <th>Title</th>\n      <th>Url</th>\n      <th>Author</th>\n      <th>Score</th>\n      <th>Publish Date</th>\n      <th>Total No. of Comments</th>\n      <th>Permalink</th>\n      <th>Flair</th>\n      <th>SelfText</th>\n    </tr>\n  </thead>\n  <tbody>\n    <tr>\n      <th>6</th>\n      <td>ako2j</td>\n      <td>Follow up to a previous post in here - Here's ...</td>\n      <td>https://www.reddit.com/r/SuicideWatch/comments...</td>\n      <td>Cataclismic</td>\n      <td>13</td>\n      <td>2010-01-02 03:19:06</td>\n      <td>3</td>\n      <td>/r/SuicideWatch/comments/ako2j/follow_up_to_a_...</td>\n      <td>NaN</td>\n      <td>First off, the first post http://www.reddit.co...</td>\n    </tr>\n    <tr>\n      <th>7</th>\n      <td>akpyw</td>\n      <td>You don't have to kill yourself to commit suic...</td>\n      <td>https://www.reddit.com/r/SuicideWatch/comments...</td>\n      <td>[deleted]</td>\n      <td>18</td>\n      <td>2010-01-02 07:54:48</td>\n      <td>3</td>\n      <td>/r/SuicideWatch/comments/akpyw/you_dont_have_t...</td>\n      <td>NaN</td>\n      <td>I don't see myself actually putting an end to ...</td>\n    </tr>\n    <tr>\n      <th>8</th>\n      <td>akruk</td>\n      <td>Today is not a good day.</td>\n      <td>https://www.reddit.com/r/SuicideWatch/comments...</td>\n      <td>jaldl</td>\n      <td>22</td>\n      <td>2010-01-02 12:55:09</td>\n      <td>7</td>\n      <td>/r/SuicideWatch/comments/akruk/today_is_not_a_...</td>\n      <td>NaN</td>\n      <td>Here is my story.\\n\\nI was born to rather quai...</td>\n    </tr>\n    <tr>\n      <th>11</th>\n      <td>akyn1</td>\n      <td>What are some good drugs for depression? socia...</td>\n      <td>https://www.reddit.com/r/SuicideWatch/comments...</td>\n      <td>[deleted]</td>\n      <td>20</td>\n      <td>2010-01-03 04:09:35</td>\n      <td>17</td>\n      <td>/r/SuicideWatch/comments/akyn1/what_are_some_g...</td>\n      <td>NaN</td>\n      <td>I used to be on zoloft for about a year. Truth...</td>\n    </tr>\n    <tr>\n      <th>13</th>\n      <td>al567</td>\n      <td>I don't know why I'm going to North Carolina.</td>\n      <td>https://www.reddit.com/r/SuicideWatch/comments...</td>\n      <td>RiseAgainst378</td>\n      <td>10</td>\n      <td>2010-01-03 20:57:29</td>\n      <td>23</td>\n      <td>/r/SuicideWatch/comments/al567/i_dont_know_why...</td>\n      <td>NaN</td>\n      <td>I've always wanted to just take a trip and get...</td>\n    </tr>\n    <tr>\n      <th>...</th>\n      <td>...</td>\n      <td>...</td>\n      <td>...</td>\n      <td>...</td>\n      <td>...</td>\n      <td>...</td>\n      <td>...</td>\n      <td>...</td>\n      <td>...</td>\n      <td>...</td>\n    </tr>\n    <tr>\n      <th>3271</th>\n      <td>eu70f</td>\n      <td>2011 Resolutions /sw</td>\n      <td>https://www.reddit.com/r/SuicideWatch/comments...</td>\n      <td>[deleted]</td>\n      <td>3</td>\n      <td>2010-12-31 15:55:15</td>\n      <td>7</td>\n      <td>/r/SuicideWatch/comments/eu70f/2011_resolution...</td>\n      <td>NaN</td>\n      <td>for 2010:\\n\\ni didn't kill myself\\n\\ndidn't ge...</td>\n    </tr>\n    <tr>\n      <th>3272</th>\n      <td>eu75m</td>\n      <td>How to broach the subject with friends/family?</td>\n      <td>https://www.reddit.com/r/SuicideWatch/comments...</td>\n      <td>dennis_brown</td>\n      <td>1</td>\n      <td>2010-12-31 16:07:43</td>\n      <td>7</td>\n      <td>/r/SuicideWatch/comments/eu75m/how_to_broach_t...</td>\n      <td>NaN</td>\n      <td>After finding SW earlier this morning, and hav...</td>\n    </tr>\n    <tr>\n      <th>3274</th>\n      <td>eu9ha</td>\n      <td>Thank you all - UPDATE: Friend in need</td>\n      <td>https://www.reddit.com/r/SuicideWatch/comments...</td>\n      <td>bored-now</td>\n      <td>5</td>\n      <td>2010-12-31 18:55:09</td>\n      <td>2</td>\n      <td>/r/SuicideWatch/comments/eu9ha/thank_you_all_u...</td>\n      <td>NaN</td>\n      <td>[Original post, here](http://www.reddit.com/r/...</td>\n    </tr>\n    <tr>\n      <th>3276</th>\n      <td>eubu0</td>\n      <td>I want to say thanks</td>\n      <td>https://www.reddit.com/r/SuicideWatch/comments...</td>\n      <td>[deleted]</td>\n      <td>20</td>\n      <td>2010-12-31 22:01:16</td>\n      <td>5</td>\n      <td>/r/SuicideWatch/comments/eubu0/i_want_to_say_t...</td>\n      <td>NaN</td>\n      <td>I am just saying thank you to the people who r...</td>\n    </tr>\n    <tr>\n      <th>3279</th>\n      <td>eud2n</td>\n      <td>I feel so fucked all the time</td>\n      <td>https://www.reddit.com/r/SuicideWatch/comments...</td>\n      <td>skinblues</td>\n      <td>3</td>\n      <td>2010-12-31 23:52:05</td>\n      <td>7</td>\n      <td>/r/SuicideWatch/comments/eud2n/i_feel_so_fucke...</td>\n      <td>NaN</td>\n      <td>Hello, it has been 2011 here for almost 2 hour...</td>\n    </tr>\n  </tbody>\n</table>\n<p>1979 rows × 10 columns</p>\n</div>"
     },
     "metadata": {},
     "execution_count": 7
    }
   ],
   "source": [
    "d_2"
   ]
  },
  {
   "cell_type": "code",
   "execution_count": 8,
   "metadata": {},
   "outputs": [
    {
     "output_type": "stream",
     "name": "stdout",
     "text": [
      "2632    Hi, reddit. So I've been drinking a lot lately...\n"
     ]
    }
   ],
   "source": [
    "print(d_2.SelfText.sample(1).to_string())"
   ]
  },
  {
   "cell_type": "code",
   "execution_count": null,
   "metadata": {},
   "outputs": [],
   "source": []
  }
 ]
}